{
 "cells": [
  {
   "cell_type": "markdown",
   "metadata": {},
   "source": [
    "## NLP for Task Classification"
   ]
  },
  {
   "cell_type": "markdown",
   "metadata": {},
   "source": [
    "**Hypothesis**: Part of Speech (POS) tagging and syntactic dependency parsing provides valuable information for classifying imperative phrases. The thinking is that being able to detect imperative phrases will transfer well to detecting tasks and to-dos.\n",
    "\n",
    "#### Some Terminology\n",
    "- [_Imperative mood_](https://en.wikipedia.org/wiki/Imperative_mood) is \"used principally for ordering, requesting or advising the listener to do (or not to do) something... also often used for giving instructions as to how to perform a task.\"\n",
    "- _Part of speech (POS)_ is a way of categorizing a word based on its syntactic function.\n",
    "    - The POS tagger from Spacy.io that is used in this notebook differentiates between [*pos_* and *tag_*](https://spacy.io/docs/api/annotation#pos-tagging-english) - *POS (pos_)* refers to \"coarse-grained part-of-speech\" like `VERB`, `ADJ`, or `PUNCT`; and *POSTAG (tag_)* refers to \"fine-grained part-of-speech\" like `VB`, `JJ`, or `.`.\n",
    "- _Syntactic dependency parsing_ is a way of connecting words based on syntactic relationships, [such as](https://spacy.io/docs/api/annotation#dependency-parsing-english) `DOBJ` (direct object), `PREP` (prepositional modifier), or `POBJ` (object of preposition).\n",
    "    - Check out the dependency parse of the phrase [\"Send the report to Kyle by tomorrow\"](https://demos.explosion.ai/displacy/?text=Send%20the%20report%20to%20Kyle%20by%20tomorrow&model=en&cpu=1&cph=1) as an example.\n",
    "\n",
    "### Proposed Features\n",
    "The imperative mood centers around _actions_, and actions are generally represented in English using verbs. So the features are engineered to also center on the VERB:\n",
    "1. `FeatureName.VERB`: Does the phrase contain `VERB`(s) of the tag form `VB*`?\n",
    "2. `FeatureName.FOLLOWING_POS`: Are the words following the `VERB`(s) of certain parts of speech?\n",
    "3. `FeatureName.FOLLOWING_POSTAG`: Are the words following the `VERB`(s) of certain POS tags?\n",
    "4. `FeatureName.CHILD_DEP`: Are the `VERB`(s) parents of certain syntactic dependencies?\n",
    "5. `FeatureName.PARENT_DEP`: Are the `VERB`(s) children of certain syntactic dependencies?\n",
    "6. `FeatureName.CHILD_POS`: Are the syntactic dependencies that the `VERB`(s) are children of of certain parts of speech?\n",
    "7. `FeatureName.CHILD_POSTAG`: Are the syntactic dependencies that the `VERB`(s) are children of of certain POS tags?\n",
    "8. `FeatureName.PARENT_POS`: Are the syntactic dependencies that the `VERB`(s) parent of certain parts of speech?\n",
    "9. `FeatureName.PARENT_POSTAG`: Are the syntactic dependencies that the `VERB`(s) parent of certain POS tags?\n",
    "\n",
    "**Notes:**\n",
    "- Features 2-9 all depend on feature 1 between `True`; if `False`, phrase vectorization will result in all zeroes.\n",
    "- When features 2-9 are applied to actual phrases, they will append identifying informating about the feature in the form of `_*` (e.g., `FeatureName.FOLLOWING_POSTAG_WRB`)."
   ]
  },
  {
   "cell_type": "markdown",
   "metadata": {},
   "source": [
    "## Data and Setup"
   ]
  },
  {
   "cell_type": "markdown",
   "metadata": {},
   "source": [
    "### Building a recipe corpus"
   ]
  },
  {
   "cell_type": "markdown",
   "metadata": {},
   "source": [
    "I wrote and ran `epicurious_recipes.py`\\* to scrape Epicurious.com for recipe instructions and descriptions. I then performed some manual cleanup of the script results. Output is in `epicurious-pos.txt` and `epicurious-neg.txt`.\n",
    "\n",
    "\\* _script (very) loosely based off of https://github.com/benosment/hrecipe-parse_"
   ]
  },
  {
   "cell_type": "markdown",
   "metadata": {},
   "source": [
    "**Note** that deriving all negative examples in the training set from Epicurious recipe descriptions would result in negative examples that are longer and syntactically more complicated than the positive examples. This is a form of bias.\n",
    "\n",
    "To (hopefully?) correct for this a bit, I will add the short movie reviews found at https://pythonprogramming.net/static/downloads/short_reviews/ as more negative examples.\n",
    "\n",
    "This still feels weird because we're selecting negative examples only from specific categories of text (recipe descriptions, short movie reviews) - just because they're readily available. Further, most positive examples are recipe instructions - also a specific (and not necessarily related to the main \"task\" category) category of text.\n",
    "\n",
    "Ultimately though, this recipe corpus is a **stopgap/proof of concept** for a corpus more relevant to tasks later on, so I won't worry further about this for now."
   ]
  },
  {
   "cell_type": "code",
   "execution_count": 1,
   "metadata": {
    "collapsed": true
   },
   "outputs": [],
   "source": [
    "import os\n",
    "from pandas import read_csv\n",
    "from numpy import random"
   ]
  },
  {
   "cell_type": "code",
   "execution_count": 2,
   "metadata": {
    "collapsed": true
   },
   "outputs": [],
   "source": [
    "BASE_DIR = os.getcwd()\n",
    "data_path = BASE_DIR + '/data.tsv'"
   ]
  },
  {
   "cell_type": "code",
   "execution_count": 3,
   "metadata": {},
   "outputs": [
    {
     "data": {
      "text/html": [
       "<div>\n",
       "<style>\n",
       "    .dataframe thead tr:only-child th {\n",
       "        text-align: right;\n",
       "    }\n",
       "\n",
       "    .dataframe thead th {\n",
       "        text-align: left;\n",
       "    }\n",
       "\n",
       "    .dataframe tbody tr th {\n",
       "        vertical-align: top;\n",
       "    }\n",
       "</style>\n",
       "<table border=\"1\" class=\"dataframe\">\n",
       "  <thead>\n",
       "    <tr style=\"text-align: right;\">\n",
       "      <th></th>\n",
       "      <th>Text</th>\n",
       "      <th>Label</th>\n",
       "    </tr>\n",
       "  </thead>\n",
       "  <tbody>\n",
       "    <tr>\n",
       "      <th>0</th>\n",
       "      <td>Be kind</td>\n",
       "      <td>pos</td>\n",
       "    </tr>\n",
       "    <tr>\n",
       "      <th>1</th>\n",
       "      <td>Get out of here</td>\n",
       "      <td>pos</td>\n",
       "    </tr>\n",
       "    <tr>\n",
       "      <th>2</th>\n",
       "      <td>Look this over</td>\n",
       "      <td>pos</td>\n",
       "    </tr>\n",
       "    <tr>\n",
       "      <th>3</th>\n",
       "      <td>Paul, do your homework now</td>\n",
       "      <td>pos</td>\n",
       "    </tr>\n",
       "    <tr>\n",
       "      <th>4</th>\n",
       "      <td>Do not clean soot off the window</td>\n",
       "      <td>pos</td>\n",
       "    </tr>\n",
       "  </tbody>\n",
       "</table>\n",
       "</div>"
      ],
      "text/plain": [
       "                               Text Label\n",
       "0                           Be kind   pos\n",
       "1                   Get out of here   pos\n",
       "2                    Look this over   pos\n",
       "3        Paul, do your homework now   pos\n",
       "4  Do not clean soot off the window   pos"
      ]
     },
     "execution_count": 3,
     "metadata": {},
     "output_type": "execute_result"
    }
   ],
   "source": [
    "df = read_csv(data_path, sep='\\t', header=None, names=['Text', 'Label'])\n",
    "df.head()"
   ]
  },
  {
   "cell_type": "code",
   "execution_count": 4,
   "metadata": {
    "collapsed": true
   },
   "outputs": [],
   "source": [
    "pos_data_split = list(df.loc[df.Label == 'pos'].Text)\n",
    "neg_data_split = list(df.loc[df.Label == 'neg'].Text)\n",
    "\n",
    "num_pos = len(pos_data_split)\n",
    "num_neg = len(neg_data_split)\n",
    "\n",
    "# 50/50 split between the number of positive and negative samples\n",
    "num_per_class = num_pos if num_pos < num_neg else num_neg\n",
    "\n",
    "# shuffle samples\n",
    "random.shuffle(pos_data_split)\n",
    "random.shuffle(neg_data_split)"
   ]
  },
  {
   "cell_type": "code",
   "execution_count": 5,
   "metadata": {
    "collapsed": true
   },
   "outputs": [],
   "source": [
    "lines = []\n",
    "for l in pos_data_split[:num_per_class]:\n",
    "    lines.append((l, 'pos'))\n",
    "for l in neg_data_split[:num_per_class]:\n",
    "    lines.append((l, 'neg'))"
   ]
  },
  {
   "cell_type": "code",
   "execution_count": 6,
   "metadata": {
    "collapsed": true
   },
   "outputs": [],
   "source": [
    "# Features as defined in the introduction\n",
    "from enum import Enum, auto\n",
    "class FeatureName(Enum):\n",
    "    VERB = auto()\n",
    "    FOLLOWING_POS = auto()\n",
    "    FOLLOWING_POSTAG = auto()\n",
    "    CHILD_DEP = auto()\n",
    "    PARENT_DEP = auto()\n",
    "    CHILD_POS = auto()\n",
    "    CHILD_POSTAG = auto()\n",
    "    PARENT_POS = auto()\n",
    "    PARENT_POSTAG = auto()"
   ]
  },
  {
   "cell_type": "markdown",
   "metadata": {},
   "source": [
    "## [spaCy.io](https://spacy.io/) for NLP\n",
    "_Because Stanford CoreNLP is hard to install for Python_\n",
    "\n",
    "Found Spacy through an article on [\"Training a Classifier for Relation Extraction from Medical Literature\"](https://www.microsoft.com/developerblog/2016/09/13/training-a-classifier-for-relation-extraction-from-medical-literature/) ([GitHub](https://github.com/CatalystCode/corpus-to-graph-ml))"
   ]
  },
  {
   "cell_type": "markdown",
   "metadata": {},
   "source": [
    "<img src=\"nltk_library_comparison.png\" alt=\"NLTK library comparison chart https://spacy.io/docs/api/#comparison\" style=\"width: 400px; margin: 0;\"/>"
   ]
  },
  {
   "cell_type": "code",
   "execution_count": 7,
   "metadata": {
    "collapsed": true
   },
   "outputs": [],
   "source": [
    "#!conda config --add channels conda-forge\n",
    "#!conda install spacy\n",
    "#!python -m spacy download en"
   ]
  },
  {
   "cell_type": "markdown",
   "metadata": {},
   "source": [
    "### Using the Spacy Data Model for NLP"
   ]
  },
  {
   "cell_type": "code",
   "execution_count": 8,
   "metadata": {
    "collapsed": true
   },
   "outputs": [],
   "source": [
    "import spacy\n",
    "# slow\n",
    "nlp = spacy.load('en')"
   ]
  },
  {
   "cell_type": "markdown",
   "metadata": {},
   "source": [
    "Spacy's sentence segmentation is lacking... https://github.com/explosion/spaCy/issues/235. So each '\\n' will start a new Spacy Doc."
   ]
  },
  {
   "cell_type": "code",
   "execution_count": 9,
   "metadata": {
    "collapsed": true
   },
   "outputs": [],
   "source": [
    "def create_spacy_docs(ll):\n",
    "    dd = [(nlp(l[0]), l[1]) for l in ll]\n",
    "    # collapse noun phrases into single compounds\n",
    "    for d in dd:\n",
    "        for np in d[0].noun_chunks:\n",
    "            np.merge(np.root.tag_, np.text, np.root.ent_type_)\n",
    "    return dd"
   ]
  },
  {
   "cell_type": "code",
   "execution_count": 10,
   "metadata": {
    "collapsed": true
   },
   "outputs": [],
   "source": [
    "# slower\n",
    "docs = create_spacy_docs(lines)"
   ]
  },
  {
   "cell_type": "markdown",
   "metadata": {},
   "source": [
    "### NLP output"
   ]
  },
  {
   "cell_type": "markdown",
   "metadata": {},
   "source": [
    "Tokenization, POS tagging, and dependency parsing happened automatically with the `nlp(line)` calls above! So let's look at the outputs.\n",
    "\n",
    "https://spacy.io/docs/usage/data-model and https://spacy.io/docs/api/doc will be useful going forward"
   ]
  },
  {
   "cell_type": "code",
   "execution_count": 11,
   "metadata": {},
   "outputs": [
    {
     "name": "stdout",
     "output_type": "stream",
     "text": [
      "[Transfer gazpacho to an airtight container; cover and chill until very cold, 4–12 hours.]\n",
      "[Add jalapeño and salt and toss to combine.]\n",
      "[Transfer to a paper-towel lined plate.]\n",
      "[Season pork chops all over with salt and pepper; sprinkle with aniseed and red pepper flakes.]\n",
      "[Lightly season with salt and pepper and drizzle vinaigrette over; top with walnuts and mint.]\n",
      "[Slice in half diagonally and serve.]\n",
      "[Lower the heat to 200°F and bake for 2 to 3 more hours, until the skin is a dark caramel brown and the top is no longer moist or sticky.]\n",
      "[You could also do this on a floured surface, but the pastry is so fragile I find it easier to handle between cling film.]\n",
      "[Prepare a grill for medium-high heat or heat a grill pan or cast-iron skillet over medium-high; oil grate or pan.]\n",
      "[Serve or freeze in an airtight container for up to a week.]\n"
     ]
    }
   ],
   "source": [
    "for doc in docs[:10]:\n",
    "    print(list(doc[0].sents))"
   ]
  },
  {
   "cell_type": "code",
   "execution_count": 12,
   "metadata": {},
   "outputs": [
    {
     "name": "stdout",
     "output_type": "stream",
     "text": [
      "[Transfer gazpacho, an airtight container, cover, chill, 4–12 hours]\n",
      "[jalapeño, salt]\n",
      "[Transfer, a paper-towel lined plate]\n",
      "[Season pork, salt, pepper, aniseed, red pepper flakes]\n",
      "[Lightly season, salt, pepper, drizzle vinaigrette, walnuts, mint]\n",
      "[Slice, half]\n",
      "[the heat, bake, 2 to 3 more hours, the skin, a dark caramel brown, the top]\n",
      "[You, a floured surface, the pastry, I, it, film]\n",
      "[a grill, medium-high heat or heat a grill pan, cast-iron skillet, medium, oil grate, pan]\n",
      "[Serve, freeze, an airtight container]\n"
     ]
    }
   ],
   "source": [
    "for doc in docs[:10]:\n",
    "    print(list(doc[0].noun_chunks))"
   ]
  },
  {
   "cell_type": "markdown",
   "metadata": {},
   "source": [
    "[Spacy's dependency graph visualization](https://demos.explosion.ai/displacy)"
   ]
  },
  {
   "cell_type": "code",
   "execution_count": 13,
   "metadata": {
    "scrolled": true
   },
   "outputs": [
    {
     "name": "stdout",
     "output_type": "stream",
     "text": [
      "Transfer gazpacho ROOT Transfer gazpacho NOUN NN Transfer gazpacho [to, .]\n",
      "to prep to ADP IN Transfer gazpacho [an airtight container]\n",
      "an airtight container pobj an airtight container NOUN NN to [;, cover, until]\n",
      "; punct ; PUNCT : an airtight container []\n",
      "cover conj cover NOUN NN an airtight container [and, chill]\n",
      "and cc and CCONJ CC cover []\n",
      "chill conj chill NOUN NN cover []\n",
      "until prep until ADP IN an airtight container [cold, 4–12 hours]\n",
      "very advmod very ADV RB cold []\n",
      "cold pobj cold ADJ JJ until [very, ,]\n",
      ", punct , PUNCT , cold []\n",
      "4–12 hours pobj 4–12 hours NOUN NNS until []\n",
      ". punct . PUNCT . Transfer gazpacho []\n",
      "Add ROOT add VERB VB Add [jalapeño, toss, .]\n",
      "jalapeño dobj jalapeño NOUN NN Add [and, salt]\n",
      "and cc and CCONJ CC jalapeño []\n",
      "salt conj salt NOUN NN jalapeño [and]\n",
      "and cc and CCONJ CC salt []\n",
      "toss conj toss VERB VB Add [combine]\n",
      "to aux to PART TO combine []\n",
      "combine xcomp combine VERB VB toss [to]\n",
      ". punct . PUNCT . Add []\n",
      "Transfer ROOT Transfer NOUN NN Transfer [to, .]\n",
      "to prep to ADP IN Transfer [a paper-towel lined plate]\n",
      "a paper-towel lined plate pobj a paper-towel lined plate NOUN NN to []\n",
      ". punct . PUNCT . Transfer []\n",
      "Season pork nsubj Season pork NOUN NN chops []\n",
      "chops ccomp chop VERB VBZ sprinkle [Season pork, over]\n",
      "all advmod all ADV RB over []\n",
      "over prep over ADP IN chops [all, with]\n",
      "with prep with ADP IN over [salt]\n",
      "salt pobj salt NOUN NN with [and, pepper]\n",
      "and cc and CCONJ CC salt []\n",
      "pepper conj pepper NOUN NN salt []\n",
      "; punct ; PUNCT : sprinkle []\n",
      "sprinkle ROOT sprinkle VERB VB sprinkle [chops, ;, with, .]\n",
      "with prep with ADP IN sprinkle [aniseed]\n",
      "aniseed pobj aniseed NOUN NN with [and, red pepper flakes]\n",
      "and cc and CCONJ CC aniseed []\n",
      "red pepper flakes conj red pepper flakes NOUN NNS aniseed []\n",
      ". punct . PUNCT . sprinkle []\n",
      "Lightly season ROOT Lightly season NOUN NN Lightly season [with, ;, top, .]\n",
      "with prep with ADP IN Lightly season [salt]\n",
      "salt pobj salt NOUN NN with [and, pepper]\n",
      "and cc and CCONJ CC salt []\n",
      "pepper conj pepper NOUN NN salt [and, drizzle vinaigrette]\n",
      "and cc and CCONJ CC pepper []\n",
      "drizzle vinaigrette conj drizzle vinaigrette NOUN NN pepper [over]\n",
      "over prep over ADP IN drizzle vinaigrette []\n",
      "; punct ; PUNCT : Lightly season []\n",
      "top conj top ADJ JJ Lightly season [with]\n",
      "with prep with ADP IN top [walnuts]\n",
      "walnuts pobj walnuts NOUN NNS with [and, mint]\n",
      "and cc and CCONJ CC walnuts []\n",
      "mint conj mint NOUN NN walnuts []\n",
      ". punct . PUNCT . Lightly season []\n"
     ]
    }
   ],
   "source": [
    "for doc in docs[:5]:\n",
    "    for token in doc[0]:\n",
    "        print(token.text, token.dep_, token.lemma_, token.pos_, token.tag_, token.head, list(token.children))"
   ]
  },
  {
   "cell_type": "markdown",
   "metadata": {},
   "source": [
    "### Featurization"
   ]
  },
  {
   "cell_type": "code",
   "execution_count": 14,
   "metadata": {
    "collapsed": true
   },
   "outputs": [],
   "source": [
    "import re\n",
    "from collections import defaultdict\n",
    "\n",
    "def featurize(d):\n",
    "    s_features = defaultdict(int)\n",
    "    for idx, token in enumerate(d):\n",
    "        if re.match(r'VB.?', token.tag_) is not None: # note: not using token.pos == VERB because this also includes BES, HVS, MD tags \n",
    "            s_features[FeatureName.VERB.name] += 1\n",
    "            # FOLLOWING_POS\n",
    "            # FOLLOWING_POSTAG\n",
    "            next_idx = idx + 1;\n",
    "            if next_idx < len(d):\n",
    "                s_features[f'{FeatureName.FOLLOWING_POS.name}_{d[next_idx].pos_}'] += 1\n",
    "                s_features[f'{FeatureName.FOLLOWING_POSTAG.name}_{d[next_idx].tag_}'] += 1\n",
    "            # PARENT_DEP\n",
    "            # PARENT_POS\n",
    "            # PARENT_POSTAG\n",
    "            '''\n",
    "            \"Because the syntactic relations form a tree, every word has exactly one head.\n",
    "            You can therefore iterate over the arcs in the tree by iterating over the words in the sentence.\"\n",
    "            https://spacy.io/docs/usage/dependency-parse#navigating\n",
    "            '''\n",
    "            if (token.head is not token):\n",
    "                s_features[f'{FeatureName.PARENT_DEP.name}_{token.head.dep_.upper()}'] += 1\n",
    "                s_features[f'{FeatureName.PARENT_POS.name}_{token.head.pos_}'] += 1\n",
    "                s_features[f'{FeatureName.PARENT_POSTAG.name}_{token.head.tag_}'] += 1\n",
    "            # CHILD_DEP\n",
    "            # CHILD_POS\n",
    "            # CHILD_POSTAG\n",
    "            for child in token.children:\n",
    "                s_features[f'{FeatureName.CHILD_DEP.name}_{child.dep_.upper()}'] += 1\n",
    "                s_features[f'{FeatureName.CHILD_POS.name}_{child.pos_}'] += 1\n",
    "                s_features[f'{FeatureName.CHILD_POSTAG.name}_{child.tag_}'] += 1\n",
    "    return dict(s_features)"
   ]
  },
  {
   "cell_type": "code",
   "execution_count": 15,
   "metadata": {
    "collapsed": true
   },
   "outputs": [],
   "source": [
    "featuresets = [(doc[0], (featurize(doc[0]), doc[1])) for doc in docs]"
   ]
  },
  {
   "cell_type": "code",
   "execution_count": 16,
   "metadata": {},
   "outputs": [
    {
     "name": "stdout",
     "output_type": "stream",
     "text": [
      "Stats on number of features per example:\n",
      "mean: 22.786088094199737\n",
      "stdev: 14.556752789753176\n",
      "median: 22.0\n",
      "mode: 0\n",
      "max: 75\n",
      "min: 0\n"
     ]
    }
   ],
   "source": [
    "from statistics import mean, median, mode, stdev\n",
    "f_lengths = [len(fs[1][0]) for fs in featuresets]\n",
    "\n",
    "print('Stats on number of features per example:')\n",
    "print(f'mean: {mean(f_lengths)}')\n",
    "print(f'stdev: {stdev(f_lengths)}')\n",
    "print(f'median: {median(f_lengths)}')\n",
    "print(f'mode: {mode(f_lengths)}')\n",
    "print(f'max: {max(f_lengths)}')\n",
    "print(f'min: {min(f_lengths)}')"
   ]
  },
  {
   "cell_type": "code",
   "execution_count": 17,
   "metadata": {},
   "outputs": [
    {
     "data": {
      "text/plain": [
       "[(Transfer gazpacho to an airtight container; cover and chill until very cold, 4–12 hours.,\n",
       "  ({}, 'pos')),\n",
       " (Add jalapeño and salt and toss to combine.,\n",
       "  ({'CHILD_DEP_AUX': 1,\n",
       "    'CHILD_DEP_CONJ': 1,\n",
       "    'CHILD_DEP_DOBJ': 1,\n",
       "    'CHILD_DEP_PUNCT': 1,\n",
       "    'CHILD_DEP_XCOMP': 1,\n",
       "    'CHILD_POSTAG_.': 1,\n",
       "    'CHILD_POSTAG_NN': 1,\n",
       "    'CHILD_POSTAG_TO': 1,\n",
       "    'CHILD_POSTAG_VB': 2,\n",
       "    'CHILD_POS_NOUN': 1,\n",
       "    'CHILD_POS_PART': 1,\n",
       "    'CHILD_POS_PUNCT': 1,\n",
       "    'CHILD_POS_VERB': 2,\n",
       "    'FOLLOWING_POSTAG_.': 1,\n",
       "    'FOLLOWING_POSTAG_NN': 1,\n",
       "    'FOLLOWING_POSTAG_TO': 1,\n",
       "    'FOLLOWING_POS_NOUN': 1,\n",
       "    'FOLLOWING_POS_PART': 1,\n",
       "    'FOLLOWING_POS_PUNCT': 1,\n",
       "    'PARENT_DEP_CONJ': 1,\n",
       "    'PARENT_DEP_ROOT': 1,\n",
       "    'PARENT_POSTAG_VB': 2,\n",
       "    'PARENT_POS_VERB': 2,\n",
       "    'VERB': 3},\n",
       "   'pos'))]"
      ]
     },
     "execution_count": 17,
     "metadata": {},
     "output_type": "execute_result"
    }
   ],
   "source": [
    "featuresets[:2]"
   ]
  },
  {
   "cell_type": "markdown",
   "metadata": {},
   "source": [
    "On one run, the above line printed the following featureset:\n",
    "`(Gather foil loosely on top and bake for 1 1/2 hours., ({}, 'pos'))`\n",
    "\n",
    "This is because the Spacy.io POS tagger provided this:\n",
    "   `Gather/NNP foil/NN loosely/RB on/IN top/NN and/CC bake/NN for/IN 1 1/2 hours./NNS`\n",
    "\n",
    "...with no VERBs tagged, which is incorrect.\n",
    "\n",
    "\"Voting - POS taggers and classifiers\" in the _Next Steps/Improvements_ section below is meant to improve on this.\n",
    "\n",
    "---\n",
    "Compare to [Stanford CoreNLP POS tagger](http://nlp.stanford.edu:8080/corenlp/process):\n",
    "   `Gather/VB foil/NN loosely/RB on/IN top/JJ and/CC bake/VB for/IN 1 1/2/CD hours/NNS ./.`\n",
    "\n",
    "And [Stanford Parser](http://nlp.stanford.edu:8080/parser/index.jsp):\n",
    "   `Gather/NNP foil/VB loosely/RB on/IN top/NN and/CC bake/VB for/IN 1 1/2/CD hours/NNS ./.`"
   ]
  },
  {
   "cell_type": "markdown",
   "metadata": {},
   "source": [
    "### Classification"
   ]
  },
  {
   "cell_type": "code",
   "execution_count": 18,
   "metadata": {},
   "outputs": [
    {
     "name": "stdout",
     "output_type": "stream",
     "text": [
      "# training samples: 3669\n",
      "# test samples: 917\n"
     ]
    }
   ],
   "source": [
    "random.shuffle(featuresets)\n",
    "\n",
    "num_classes = 2\n",
    "split_num = round(num_per_class*num_classes / 5)\n",
    "\n",
    "# train and test sets\n",
    "testing_set = [fs[1] for i, fs in enumerate(featuresets[:split_num])]\n",
    "training_set =  [fs[1] for i, fs in enumerate(featuresets[split_num:])]\n",
    "\n",
    "print(f'# training samples: {len(training_set)}')\n",
    "print(f'# test samples: {len(testing_set)}')"
   ]
  },
  {
   "cell_type": "code",
   "execution_count": 19,
   "metadata": {
    "collapsed": true
   },
   "outputs": [],
   "source": [
    "# decoupling the functionality of nltk.classify.accuracy\n",
    "def predict(classifier, gold, prob=True):\n",
    "    if (prob is True):\n",
    "        predictions = classifier.prob_classify_many([fs for (fs, ll) in gold])\n",
    "    else:\n",
    "        predictions = classifier.classify_many([fs for (fs, ll) in gold])\n",
    "    return list(zip(predictions, [ll for (fs, ll) in gold]))\n",
    "\n",
    "def accuracy(predicts, prob=True):\n",
    "    if (prob is True):\n",
    "        correct = [label == prediction.max() for (prediction, label) in predicts]\n",
    "    else:\n",
    "        correct = [label == prediction for (prediction, label) in predicts]\n",
    "        \n",
    "    if correct:\n",
    "        return sum(correct) / len(correct)\n",
    "    else:\n",
    "        return 0"
   ]
  },
  {
   "cell_type": "markdown",
   "metadata": {},
   "source": [
    "Note below the use of `DummyClassifier` to provide a simple sanity check, a baseline of random predictions. `stratified` means it \"generates random predictions by respecting the training set class distribution.\" (http://scikit-learn.org/stable/modules/model_evaluation.html#dummy-estimators)\n",
    "\n",
    "> More generally, when the accuracy of a classifier is too close to random, it probably means that something went wrong: features are not helpful, a hyperparameter is not correctly tuned, the classifier is suffering from class imbalance, etc…\n",
    "\n",
    "If a classifier can beat the `DummyClassifier`, it is at least learning something valuable! How valuable is another question..."
   ]
  },
  {
   "cell_type": "code",
   "execution_count": 20,
   "metadata": {
    "scrolled": true
   },
   "outputs": [
    {
     "name": "stdout",
     "output_type": "stream",
     "text": [
      "Dummy classifier accuracy percent: 48.74591057797165\n",
      "NaiveBayes classifier accuracy percent: 68.04798255179935\n",
      "MultinomialNB classifier accuracy percent: 80.26172300981462\n",
      "BernoulliNB classifier accuracy percent: 74.2639040348964\n",
      "LogisticRegressionCV classifier accuracy percent: 84.07851690294439\n",
      "SGD classifier accuracy percent: 56.706652126499456\n",
      "SVC classifier accuracy percent: 83.09705561613958\n",
      "LinearSVC classifier accuracy percent: 83.86041439476554\n",
      "DecisionTree classifier accuracy percent: 78.29880043620501\n",
      "RandomForest classifier accuracy percent: 83.6423118865867\n"
     ]
    }
   ],
   "source": [
    "from nltk import NaiveBayesClassifier\n",
    "from nltk.classify.decisiontree import DecisionTreeClassifier\n",
    "from nltk.classify.scikitlearn import SklearnClassifier\n",
    "\n",
    "from sklearn.dummy import DummyClassifier\n",
    "from sklearn.naive_bayes import MultinomialNB, BernoulliNB\n",
    "from sklearn.linear_model import LogisticRegressionCV, SGDClassifier\n",
    "from sklearn.svm import SVC, LinearSVC\n",
    "from sklearn.ensemble import RandomForestClassifier\n",
    "from sklearn.calibration import CalibratedClassifierCV\n",
    "\n",
    "dummy = SklearnClassifier(DummyClassifier(strategy='stratified', random_state=0))\n",
    "dummy.train(training_set)\n",
    "dummy_predict = predict(dummy, testing_set)\n",
    "dummy_accuracy = accuracy(dummy_predict)\n",
    "print(\"Dummy classifier accuracy percent:\", dummy_accuracy*100)\n",
    "\n",
    "nb = NaiveBayesClassifier.train(training_set)\n",
    "nb_predict = predict(nb, testing_set)\n",
    "nb_accuracy = accuracy(nb_predict)\n",
    "print(\"NaiveBayes classifier accuracy percent:\", nb_accuracy*100)\n",
    "\n",
    "multinomial_nb = SklearnClassifier(MultinomialNB())\n",
    "multinomial_nb.train(training_set)\n",
    "mnb_predict = predict(multinomial_nb, testing_set)\n",
    "mnb_accuracy = accuracy(mnb_predict)\n",
    "print(\"MultinomialNB classifier accuracy percent:\", mnb_accuracy*100)\n",
    "\n",
    "bernoulli_nb = SklearnClassifier(BernoulliNB())\n",
    "bernoulli_nb.train(training_set)\n",
    "bnb_predict = predict(bernoulli_nb, testing_set)\n",
    "bnb_accuracy = accuracy(bnb_predict)\n",
    "print(\"BernoulliNB classifier accuracy percent:\", bnb_accuracy*100)\n",
    "\n",
    "# ??logistic_regression._clf\n",
    "#   sklearn.svm.LinearSVC : learns SVM models using the same algorithm.\n",
    "logistic_regression = SklearnClassifier(LogisticRegressionCV())\n",
    "logistic_regression.train(training_set)\n",
    "lr_predict = predict(logistic_regression, testing_set)\n",
    "lr_accuracy = accuracy(lr_predict)\n",
    "print(\"LogisticRegressionCV classifier accuracy percent:\", lr_accuracy*100)\n",
    "\n",
    "# ??sgd._clf\n",
    "#    The 'log' loss gives logistic regression, a probabilistic classifier.\n",
    "# ??linear_svc._clf\n",
    "#   can optimize the same cost function as LinearSVC\n",
    "#   by adjusting the penalty and loss parameters. In addition it requires\n",
    "#   less memory, allows incremental (online) learning, and implements\n",
    "#   various loss functions and regularization regimes.\n",
    "sgd = SklearnClassifier(SGDClassifier(loss='log'))\n",
    "sgd.train(training_set)\n",
    "sgd_predict = predict(sgd, testing_set)\n",
    "sgd_accuracy = accuracy(sgd_predict)\n",
    "print(\"SGD classifier accuracy percent:\", sgd_accuracy*100)\n",
    "\n",
    "# slow\n",
    "# using libsvm with kernel 'rbf' (radial basis function)\n",
    "svc = SklearnClassifier(SVC(probability=True))\n",
    "svc.train(training_set)\n",
    "svc_predict = predict(svc, testing_set)\n",
    "svc_accuracy = accuracy(svc_predict)\n",
    "print(\"SVC classifier accuracy percent:\", svc_accuracy*100)\n",
    "\n",
    "# ??linear_svc._clf\n",
    "#    Similar to SVC with parameter kernel='linear', but implemented in terms of\n",
    "#    liblinear rather than libsvm, so it has more flexibility in the choice of\n",
    "#    penalties and loss functions and should scale better to large numbers of\n",
    "#    samples.\n",
    "#    Prefer dual=False when n_samples > n_features.\n",
    "# Using CalibratedClassifierCV as wrapper to get predict probabilities (https://stackoverflow.com/a/39712590)\n",
    "linear_svc = SklearnClassifier(CalibratedClassifierCV(LinearSVC(dual=False)))\n",
    "linear_svc.train(training_set)\n",
    "linear_svc_predict = predict(linear_svc, testing_set)\n",
    "linear_svc_accuracy = accuracy(linear_svc_predict)\n",
    "print(\"LinearSVC classifier accuracy percent:\", linear_svc_accuracy*100)\n",
    "\n",
    "# slower\n",
    "dt = DecisionTreeClassifier.train(training_set)\n",
    "dt_predict = predict(dt, testing_set, False)\n",
    "dt_accuracy = accuracy(dt_predict, False)\n",
    "print(\"DecisionTree classifier accuracy percent:\", dt_accuracy*100)\n",
    "\n",
    "random_forest = SklearnClassifier(RandomForestClassifier(n_estimators = 100))\n",
    "random_forest.train(training_set)\n",
    "rf_predict = predict(random_forest, testing_set)\n",
    "rf_accuracy = accuracy(rf_predict)\n",
    "print(\"RandomForest classifier accuracy percent:\", rf_accuracy*100)"
   ]
  },
  {
   "cell_type": "markdown",
   "metadata": {},
   "source": [
    "### SGD: Multiple Epochs"
   ]
  },
  {
   "cell_type": "markdown",
   "metadata": {},
   "source": [
    "`sgd` classifiers improves with epochs. `??sgd._clf` tells us that the default number of epochs `n_iter` is 5. So let's run more epochs. Also not that the training_set shuffle is `True` by default."
   ]
  },
  {
   "cell_type": "code",
   "execution_count": 21,
   "metadata": {},
   "outputs": [
    {
     "name": "stdout",
     "output_type": "stream",
     "text": [
      "SGDClassifier classifier accuracy percent (epochs: 1000): 84.18756815703381\n"
     ]
    }
   ],
   "source": [
    "num_epochs = 1000\n",
    "sgd = SklearnClassifier(SGDClassifier(loss='log', n_iter=num_epochs))\n",
    "sgd.train(training_set)\n",
    "sgd_predict = predict(sgd, testing_set)\n",
    "sgd_accuracy = accuracy(sgd_predict)\n",
    "print(f\"SGDClassifier classifier accuracy percent (epochs: {num_epochs}):\", sgd_accuracy*100)"
   ]
  },
  {
   "cell_type": "markdown",
   "metadata": {},
   "source": [
    "Fortunately, 1000 epochs run very quickly! And `SGDClassifier` performance has improved with more iterations.\n",
    "\n",
    "*Also note that we can set `warm_start` to `True` if we want to take advantage of online learning and reuse the solution of the previous call.*"
   ]
  },
  {
   "cell_type": "markdown",
   "metadata": {},
   "source": [
    "### GridSearch and Cross-Validation\n",
    "\n",
    "Next we perform 1) grid search to find optimal hyperparameters, and 2) cross-validation to evaluate performance over multiple folds of the data (to avoid overfitting).\n",
    "\n",
    "http://scikit-learn.org/stable/modules/grid_search.html#grid-search\n",
    "\n",
    "http://scikit-learn.org/stable/auto_examples/model_selection/plot_nested_cross_validation_iris.html"
   ]
  },
  {
   "cell_type": "code",
   "execution_count": 22,
   "metadata": {
    "collapsed": true
   },
   "outputs": [],
   "source": [
    "from nltk.classify.scikitlearn import SklearnClassifier\n",
    "\n",
    "from sklearn.linear_model import SGDClassifier\n",
    "from sklearn.svm import LinearSVC\n",
    "from sklearn.ensemble import RandomForestClassifier\n",
    "from sklearn.calibration import CalibratedClassifierCV"
   ]
  },
  {
   "cell_type": "code",
   "execution_count": 23,
   "metadata": {},
   "outputs": [],
   "source": [
    "# https://stackoverflow.com/a/16388804\n",
    "from sklearn.model_selection import KFold\n",
    "from sklearn.base import clone\n",
    "from numpy import zeros\n",
    "\n",
    "def cross_val(name, model, debug=True):\n",
    "    num_splits = 3\n",
    "    original_clf = clone(model._clf)\n",
    "    cvidx = KFold(n_splits=num_splits, shuffle=True).split(training_set)\n",
    "    \n",
    "    nested_acc = zeros(num_splits)\n",
    "    i=0\n",
    "    for trainidx, testidx in cvidx:\n",
    "        model._clf = clone(original_clf)  # we clone the estimator to make sure that all the folds are independent\n",
    "        classifier = model.train(training_set[trainidx[0]:trainidx[len(trainidx)-1]])\n",
    "        pred = predict(classifier, training_set[testidx[0]:testidx[len(testidx)-1]])\n",
    "        nested_acc[i] = accuracy(pred)\n",
    "        i += 1\n",
    "    \n",
    "    if debug == True:\n",
    "        print(f\"{name} CV accuracies:\", nested_acc)\n",
    "    \n",
    "    return nested_acc.mean()"
   ]
  },
  {
   "cell_type": "code",
   "execution_count": 24,
   "metadata": {},
   "outputs": [
    {
     "name": "stdout",
     "output_type": "stream",
     "text": [
      "# LinearSVC: Tuning hyper-parameters for roc_auc\n",
      "\n",
      "Best parameters set found on development set:\n",
      "\n",
      "{'C': 0.01, 'dual': False, 'loss': 'squared_hinge', 'max_iter': 1000, 'penalty': 'l2', 'tol': 0.001}\n",
      "roc_auc: 0.908 (+/-0.018)\n",
      "\n",
      "LinearSVC (calibrated) classifier accuracy percent: 83.42420937840785\n",
      "LinearSVC (raw) classifier accuracy percent: 83.53326063249727\n",
      "LinearSVC CV accuracies: [ 0.83387889  0.83383438  0.83396947]\n",
      "LinearSVC (calibrated) CV classifier avg accuracy percent: 83.3894244566\n",
      "\n",
      "# LogisticRegression: Tuning hyper-parameters for roc_auc\n",
      "\n",
      "Best parameters set found on development set:\n",
      "\n",
      "{'C': 1.0, 'dual': True, 'max_iter': 100, 'penalty': 'l2', 'solver': 'liblinear', 'tol': 0.0001}\n",
      "roc_auc: 0.908 (+/-0.016)\n",
      "\n",
      "LogisticRegression classifier accuracy percent: 84.18756815703381\n",
      "LogisticRegression CV accuracies: [ 0.837241    0.83701884  0.83670678]\n",
      "LogisticRegression CV classifier avg accuracy percent: 83.6988874553\n",
      "\n",
      "# SGD: Tuning hyper-parameters for roc_auc\n",
      "\n",
      "Best parameters set found on development set:\n",
      "\n",
      "{'alpha': 0.001, 'average': False, 'n_iter': 100, 'penalty': 'l2'}\n",
      "roc_auc: 0.910 (+/-0.015)\n",
      "\n",
      "SGD classifier accuracy percent: 82.98800436205016\n",
      "SGD CV accuracies: [ 0.83706332  0.83674584  0.83833152]\n",
      "SGD CV classifier avg accuracy percent: 83.7380223779\n",
      "\n",
      "# RandomForest: Tuning hyper-parameters for roc_auc\n",
      "\n",
      "Best parameters set found on development set:\n",
      "\n",
      "{'criterion': 'entropy', 'max_features': 'auto', 'n_estimators': 1000, 'oob_score': False}\n",
      "roc_auc: 0.910 (+/-0.025)\n",
      "\n",
      "RandomForest classifier accuracy percent: 84.29661941112323\n",
      "RandomForest CV accuracies: [ 0.9290393   0.92898115  0.92880524]\n",
      "RandomForest CV classifier avg accuracy percent: 92.8941897105\n",
      "\n"
     ]
    }
   ],
   "source": [
    "# http://scikit-learn.org/stable/auto_examples/model_selection/plot_grid_search_digits.html#sphx-glr-auto-examples-model-selection-plot-grid-search-digits-py\n",
    "\n",
    "from sklearn.model_selection import GridSearchCV\n",
    "from sklearn.linear_model import LogisticRegression\n",
    "\n",
    "# Set the parameters by cross-validation\n",
    "model_parameters = [{'LinearSVC': [{\n",
    "                        'loss': ['hinge'],\n",
    "                        'dual': [True],\n",
    "                        'penalty': ['l2'],\n",
    "                        'tol': [1e-3, 1e-4, 1e-5],\n",
    "                        'max_iter': [1000, 10000],\n",
    "                        'C': [100.0, 1.0, 0.01]\n",
    "                    },\n",
    "                    {\n",
    "                        'loss': ['squared_hinge'],\n",
    "                        'dual': [False, True],\n",
    "                        'penalty': ['l2'],\n",
    "                        'tol': [1e-3, 1e-4, 1e-5],\n",
    "                        'max_iter': [1000, 10000],\n",
    "                        'C': [100.0, 1.0, 0.01]\n",
    "                    }]},\n",
    "                   {'LogisticRegression': [{\n",
    "                        'penalty': ['l1'],\n",
    "                        'dual': [False],\n",
    "                        'C': [100.0, 1.0, 0.01],\n",
    "                        'solver': ['liblinear']\n",
    "                   },\n",
    "                   {\n",
    "                        'penalty': ['l2'],\n",
    "                        'dual': [False, True],\n",
    "                        'C': [100.0, 1.0, 0.01],\n",
    "                        'max_iter': [100, 1000],\n",
    "                        'solver': ['liblinear'],\n",
    "                        'tol': [1e-3, 1e-4, 1e-5]\n",
    "                   },\n",
    "                   {\n",
    "                        'penalty': ['l2'],\n",
    "                        'dual': [False],\n",
    "                        'C': [100.0, 1.0, 0.01],\n",
    "                        'max_iter': [100, 1000],\n",
    "                        'solver': ['newton-cg', 'lbfgs', 'sag'],\n",
    "                        'tol': [1e-3, 1e-4, 1e-5]\n",
    "                   }]},\n",
    "                   {'SGD': [{\n",
    "                        'penalty': ['l1', 'l2', 'elasticnet'],\n",
    "                        'alpha': [1e-3, 1e-4, 1e-5],\n",
    "                        'average': [True, False],\n",
    "                        'n_iter': [100, 1000, 10000]\n",
    "                   }]},\n",
    "                   {'RandomForest': [{\n",
    "                        'n_estimators': [10, 100, 1000],\n",
    "                        'criterion': ['gini', 'entropy'],\n",
    "                        'max_features': ['auto', 'log2', None],\n",
    "                        'oob_score': [True, False]\n",
    "                   }]}]\n",
    "\n",
    "score = 'roc_auc'\n",
    "\n",
    "for i, model_param in enumerate(model_parameters):\n",
    "    model = [key for i, key in enumerate(model_param)][0]\n",
    "    \n",
    "    print(f\"# {model}: Tuning hyper-parameters for {score}\")\n",
    "    print()\n",
    "    \n",
    "    if model == 'LinearSVC': \n",
    "        clf = LinearSVC()\n",
    "    elif model == 'LogisticRegression':\n",
    "        clf = LogisticRegression()\n",
    "    elif model == 'SGD':\n",
    "        clf = SGDClassifier(loss='log')\n",
    "    elif model == 'RandomForest':\n",
    "        clf = RandomForestClassifier()\n",
    "    else:\n",
    "        raise Exception('%s model needs to be added to the if-block' % model)\n",
    "\n",
    "    grid = SklearnClassifier(GridSearchCV(clf, model_param[model], cv=5,\n",
    "                       scoring=score, n_jobs=-1))\n",
    "    grid.train(training_set)\n",
    "\n",
    "    print(\"Best parameters set found on development set:\")\n",
    "    print()\n",
    "    print(grid._clf.best_params_)\n",
    "    mean = grid._clf.cv_results_['mean_test_score'][grid._clf.best_index_]\n",
    "    std = grid._clf.cv_results_['std_test_score'][grid._clf.best_index_]\n",
    "    print(\"roc_auc: %0.3f (+/-%0.03f)\" % (mean, std * 2))\n",
    "    print()\n",
    "    \n",
    "    if model == 'LinearSVC':\n",
    "        # Wrapping LinearSVC in CalibratedClassifierCV to add support for probability prediction\n",
    "        # Note that there is a difference in accuracies between raw GridSearchCV and calibrated GridSearchCV\n",
    "        # However, I'm willing to sacrifice the potential 'best' result from raw in order to output probabilities\n",
    "        grid_calibrated = SklearnClassifier(CalibratedClassifierCV(grid._clf.best_estimator_, cv=None))\n",
    "        grid_calibrated.train(training_set)\n",
    "        gridc_predict = predict(grid_calibrated, testing_set)\n",
    "        gridc_accuracy = accuracy(gridc_predict)\n",
    "        print(f\"{model} (calibrated) classifier accuracy percent:\", gridc_accuracy*100)\n",
    "        \n",
    "        grid_predict = predict(grid, testing_set, False)\n",
    "        grid_accuracy = accuracy(grid_predict, False)\n",
    "        print(f\"{model} (raw) classifier accuracy percent:\", grid_accuracy*100)\n",
    "        \n",
    "        # CV after parameter optimization\n",
    "        cv_acc = cross_val(model, grid_calibrated)\n",
    "        print(f\"{model} (calibrated) CV classifier avg accuracy percent:\", cv_acc*100)\n",
    "        \n",
    "        linear_svc_opt = grid_calibrated\n",
    "        linear_svc_predict = gridc_predict\n",
    "    else:\n",
    "        grid_predict = predict(grid, testing_set)\n",
    "        grid_accuracy = accuracy(grid_predict)\n",
    "        print(f\"{model} classifier accuracy percent:\", grid_accuracy*100)\n",
    "        \n",
    "        # CV after parameter optimization\n",
    "        cv_acc = cross_val(model, grid)\n",
    "        print(f\"{model} CV classifier avg accuracy percent:\", cv_acc*100)\n",
    "        \n",
    "        if model == 'LogisticRegression':\n",
    "            logistic_regression_opt = grid\n",
    "            lr_predict = grid_predict\n",
    "        elif model == 'SGD':\n",
    "            sgd_opt = grid\n",
    "            sgd_predict = grid_predict\n",
    "        elif model == 'RandomForest':\n",
    "            random_forest_opt = grid\n",
    "            rf_predict = grid_predict\n",
    "        else:\n",
    "            raise Exception('%s model was not run through Grid Search' % model)\n",
    "    \n",
    "    print()"
   ]
  },
  {
   "cell_type": "markdown",
   "metadata": {},
   "source": [
    "### VotingClassifier\n",
    "\n",
    "We're going to create an ensemble classifier by letting our top-performing classifiers, which consistently perform with >80% accuracy &mdash; `LogisticRegression`, `LinearSVC`, `SGD`, and `RandomForest` (excluding `SVC` due to its slowness) &mdash; vote on each prediction."
   ]
  },
  {
   "cell_type": "code",
   "execution_count": 34,
   "metadata": {},
   "outputs": [
    {
     "name": "stdout",
     "output_type": "stream",
     "text": [
      "Soft voting classifier accuracy percent: 84.29661941112323\n",
      "Soft voting CV accuracies: [ 0.89822647  0.898527    0.89559989]\n",
      "Soft voting CV classifier accuracy percent: 89.7451120722\n"
     ]
    }
   ],
   "source": [
    "from sklearn.ensemble import VotingClassifier\n",
    "\n",
    "voting = SklearnClassifier(VotingClassifier(estimators=[\n",
    "    ('lr', logistic_regression_opt._clf),\n",
    "    ('linear_svc', linear_svc_opt._clf),\n",
    "    ('sgd', sgd_opt._clf),\n",
    "    ('rf', random_forest_opt._clf)\n",
    "], voting='soft', weights=[1,1,1,3], n_jobs=-1))\n",
    "voting.train(training_set)\n",
    "\n",
    "voting_predict = predict(voting, testing_set)\n",
    "voting_accuracy = accuracy(voting_predict)\n",
    "print(\"Soft voting classifier accuracy percent:\", voting_accuracy*100)\n",
    "\n",
    "# CV after parameter optimization\n",
    "voting_acc = cross_val(\"Soft voting\", voting)\n",
    "print(f\"Soft voting CV classifier accuracy percent:\", voting_acc*100)"
   ]
  },
  {
   "cell_type": "markdown",
   "metadata": {},
   "source": [
    "### Analysis"
   ]
  },
  {
   "cell_type": "markdown",
   "metadata": {},
   "source": [
    "Similarly to the voting model, we're also going to scope analysis down to our top-performing classifiers. We'll include the `Voting` model itself, and then `Dummy` as a baseline."
   ]
  },
  {
   "cell_type": "markdown",
   "metadata": {},
   "source": [
    "#### Most Informative Features"
   ]
  },
  {
   "cell_type": "code",
   "execution_count": 28,
   "metadata": {
    "collapsed": true
   },
   "outputs": [],
   "source": [
    "# https://stackoverflow.com/a/11140887\n",
    "def show_most_informative_features(vectorizer, clf, n=20):\n",
    "    feature_names = vectorizer.get_feature_names()\n",
    "    coefs_with_fns = sorted(zip(clf.coef_[0], feature_names))\n",
    "    top = zip(coefs_with_fns[:round(n/2)], coefs_with_fns[:-(round(n/2) + 1):-1])\n",
    "    for (coef_1, fn_1), (coef_2, fn_2) in top:\n",
    "        print(\"\\t%.4f\\t%-15s\\t\\t%.4f\\t%-15s\" % (coef_1, fn_1, coef_2, fn_2))"
   ]
  },
  {
   "cell_type": "code",
   "execution_count": 29,
   "metadata": {},
   "outputs": [
    {
     "name": "stdout",
     "output_type": "stream",
     "text": [
      "SGD\n",
      "\t-2.5549\tCHILD_DEP_AGENT\t\t2.3775\tPARENT_DEP_ADVMOD||CONJ\n",
      "\t-2.3709\tCHILD_POSTAG_``\t\t2.2319\tCHILD_DEP_DOBJ||XCOMP\n",
      "\t-2.0919\tPARENT_DEP_AMOD\t\t2.1958\tCHILD_POSTAG_-RRB-\n",
      "\t-1.8619\tPARENT_POSTAG_VBZ\t\t1.7032\tCHILD_DEP_NPADVMOD\n",
      "\t-1.8443\tCHILD_DEP_CSUBJ\t\t1.6896\tFOLLOWING_POSTAG_MD\n",
      "\t-1.8137\tCHILD_POSTAG_HYPH\t\t1.5639\tPARENT_DEP_OPRD\n",
      "\t-1.7267\tCHILD_DEP_INTJ \t\t1.5519\tPARENT_POS_PROPN\n",
      "\t-1.6111\tPARENT_POSTAG_CD\t\t1.5519\tPARENT_POSTAG_NNP\n",
      "\n",
      "Logistic Regression\n",
      "\t-1.5202\tCHILD_DEP_AGENT\t\t1.2352\tCHILD_DEP_NPADVMOD\n",
      "\t-1.4173\tPARENT_POSTAG_VBZ\t\t1.1783\tCHILD_POSTAG_-RRB-\n",
      "\t-1.3431\tCHILD_DEP_NSUBJ\t\t1.0003\tVERB           \n",
      "\t-1.1485\tCHILD_POSTAG_HYPH\t\t0.9728\tPARENT_POS_PROPN\n",
      "\t-0.9715\tCHILD_POS_ADJ  \t\t0.9728\tPARENT_POSTAG_NNP\n",
      "\t-0.9480\tCHILD_DEP_ATTR \t\t0.9693\tCHILD_DEP_MARK \n",
      "\t-0.9114\tCHILD_POSTAG_``\t\t0.9398\tPARENT_POSTAG_VB\n",
      "\t-0.8811\tCHILD_DEP_CSUBJ\t\t0.8721\tCHILD_POSTAG_: \n"
     ]
    }
   ],
   "source": [
    "print('SGD')\n",
    "show_most_informative_features(sgd._vectorizer, sgd._clf, 15)\n",
    "print()\n",
    "print('Logistic Regression')\n",
    "show_most_informative_features(logistic_regression._vectorizer, logistic_regression._clf, 15)"
   ]
  },
  {
   "cell_type": "markdown",
   "metadata": {},
   "source": [
    "*Note: Because `CalibratedClassifierCV` has no attribute `coef_`, we cannot show the most informative features for `LinearSVC` while it's wrapped. `Random Forest` and `Voting` also lack `coef_`.*"
   ]
  },
  {
   "cell_type": "code",
   "execution_count": 30,
   "metadata": {},
   "outputs": [
    {
     "data": {
      "text/plain": [
       "'adjective, superlative'"
      ]
     },
     "execution_count": 30,
     "metadata": {},
     "output_type": "execute_result"
    }
   ],
   "source": [
    "spacy.explain(\"JJS\")"
   ]
  },
  {
   "cell_type": "markdown",
   "metadata": {},
   "source": [
    "**Negative coefficients**:\n",
    "- VERB parents [`AGENT`](http://universaldependencies.org/docs/sv/dep/nmod-agent.html): \"used for agents of passive verbs\" - interpreting this to mean that _existence of passive verbs (i.e., the opposite of active verbs) means negative correlation with it being imperative_\n",
    "- VERB followed by a `WRB`: \"wh-adverb\" (where, when)\n",
    "- VERB is a child of [`AMOD`](http://universaldependencies.org/en/dep/amod.html): \"any adjective or adjectival phrase that serves to modify the meaning\" of the verb\n",
    "\n",
    "\n",
    "**Positive coefficients**:\n",
    "- VERB parents a `-RRB-`: \"right round bracket\"\n",
    "- VERB is a child of `PROPN`: \"proper noun\"\n",
    "- VERB is a child of `NNP`: \"noun, proper singular\""
   ]
  },
  {
   "cell_type": "markdown",
   "metadata": {},
   "source": [
    "#### Scikit Learn metrics: Confusion matrix, Classification report, F1 score, Log loss\n",
    "\n",
    "http://scikit-learn.org/stable/modules/model_evaluation.html"
   ]
  },
  {
   "cell_type": "code",
   "execution_count": 31,
   "metadata": {
    "collapsed": true
   },
   "outputs": [],
   "source": [
    "from sklearn import metrics\n",
    "\n",
    "def classification_report(predict, prob=True):\n",
    "    predictions, labels = zip(*predict)\n",
    "    if prob is True:\n",
    "        return metrics.classification_report(labels, [p.max() for p in predictions])\n",
    "    else:\n",
    "        return metrics.classification_report(labels, predictions)\n",
    "\n",
    "def confusion_matrix(predict, prob=True, print_layout=False):\n",
    "    predictions, labels = zip(*predict)\n",
    "    if print_layout is True:\n",
    "        print('Layout\\n[[tn   fp]\\n [fn   tp]]\\n')\n",
    "    if prob is True:\n",
    "        return metrics.confusion_matrix(labels, [p.max() for p in predictions])\n",
    "    else:\n",
    "        return metrics.confusion_matrix(labels, predictions)\n",
    "    \n",
    "def log_loss(predict):\n",
    "    predictions, labels = zip(*predict)\n",
    "    return metrics.log_loss(labels, [p.prob('pos') for p in predictions])\n",
    "\n",
    "def roc_auc_score(predict):\n",
    "    predictions, labels = zip(*predict)\n",
    "    # need to convert labels to binary classification of 0 or 1\n",
    "    return metrics.roc_auc_score([1 if l == 'pos' else 0 for l in labels], [p.prob('pos') for p in predictions], average='weighted')\n",
    "\n",
    "def precision_recall_curve(predict):\n",
    "    predictions, labels = zip(*predict)\n",
    "    return metrics.precision_recall_curve(labels, [p.prob('pos') for p in predictions], pos_label='pos')\n",
    "\n",
    "def average_precision_score(predict):\n",
    "    predictions, labels = zip(*predict)\n",
    "    return metrics.average_precision_score([1 if l == 'pos' else 0 for l in labels], [p.prob('pos') for p in predictions])\n",
    "\n",
    "def roc_curve(predict):\n",
    "    predictions, labels = zip(*predict)\n",
    "    return metrics.roc_curve(labels, [p.prob('pos') for p in predictions], pos_label='pos')"
   ]
  },
  {
   "cell_type": "code",
   "execution_count": 32,
   "metadata": {},
   "outputs": [
    {
     "name": "stdout",
     "output_type": "stream",
     "text": [
      "SGD\n",
      "             precision    recall  f1-score   support\n",
      "\n",
      "        neg       0.90      0.75      0.82       470\n",
      "        pos       0.78      0.91      0.84       447\n",
      "\n",
      "avg / total       0.84      0.83      0.83       917\n",
      "\n",
      "\n",
      "Logistic Regression\n",
      "             precision    recall  f1-score   support\n",
      "\n",
      "        neg       0.89      0.79      0.84       470\n",
      "        pos       0.80      0.89      0.85       447\n",
      "\n",
      "avg / total       0.85      0.84      0.84       917\n",
      "\n",
      "\n",
      "LinearSVC\n",
      "             precision    recall  f1-score   support\n",
      "\n",
      "        neg       0.88      0.78      0.83       470\n",
      "        pos       0.80      0.89      0.84       447\n",
      "\n",
      "avg / total       0.84      0.83      0.83       917\n",
      "\n",
      "\n",
      "Random Forest\n",
      "             precision    recall  f1-score   support\n",
      "\n",
      "        neg       0.88      0.80      0.84       470\n",
      "        pos       0.81      0.89      0.85       447\n",
      "\n",
      "avg / total       0.85      0.84      0.84       917\n",
      "\n"
     ]
    }
   ],
   "source": [
    "print('SGD')\n",
    "print(classification_report(sgd_predict))\n",
    "print()\n",
    "print('Logistic Regression')\n",
    "print(classification_report(lr_predict))\n",
    "print()\n",
    "print('LinearSVC')\n",
    "print(classification_report(linear_svc_predict))\n",
    "print()\n",
    "print('Random Forest')\n",
    "print(classification_report(rf_predict))"
   ]
  },
  {
   "cell_type": "code",
   "execution_count": 35,
   "metadata": {},
   "outputs": [
    {
     "name": "stdout",
     "output_type": "stream",
     "text": [
      "Voting\n",
      "             precision    recall  f1-score   support\n",
      "\n",
      "        neg       0.89      0.79      0.84       470\n",
      "        pos       0.80      0.89      0.85       447\n",
      "\n",
      "avg / total       0.85      0.84      0.84       917\n",
      "\n"
     ]
    }
   ],
   "source": [
    "print('Voting')\n",
    "print(classification_report(voting_predict))"
   ]
  },
  {
   "cell_type": "code",
   "execution_count": 36,
   "metadata": {},
   "outputs": [
    {
     "name": "stdout",
     "output_type": "stream",
     "text": [
      "Layout\n",
      "[[tn   fp]\n",
      " [fn   tp]]\n",
      "\n",
      "SGD\n",
      "[[353 117]\n",
      " [ 39 408]]\n",
      "\n",
      "Logistic Regression\n",
      "[[373  97]\n",
      " [ 48 399]]\n",
      "\n",
      "LinearSVC\n",
      "[[368 102]\n",
      " [ 50 397]]\n",
      "\n",
      "Random Forest\n",
      "[[377  93]\n",
      " [ 51 396]]\n"
     ]
    }
   ],
   "source": [
    "print('Layout\\n[[tn   fp]\\n [fn   tp]]\\n')\n",
    "\n",
    "print('SGD')\n",
    "print(confusion_matrix(sgd_predict))\n",
    "print()\n",
    "print('Logistic Regression')\n",
    "print(confusion_matrix(lr_predict))\n",
    "print()\n",
    "print('LinearSVC')\n",
    "print(confusion_matrix(linear_svc_predict))\n",
    "print()\n",
    "print('Random Forest')\n",
    "print(confusion_matrix(rf_predict))"
   ]
  },
  {
   "cell_type": "code",
   "execution_count": 37,
   "metadata": {},
   "outputs": [
    {
     "name": "stdout",
     "output_type": "stream",
     "text": [
      "Voting\n",
      "[[373  97]\n",
      " [ 47 400]]\n"
     ]
    }
   ],
   "source": [
    "print('Voting')\n",
    "print(confusion_matrix(voting_predict))"
   ]
  },
  {
   "cell_type": "markdown",
   "metadata": {},
   "source": [
    "The lower the better for `log_loss`..."
   ]
  },
  {
   "cell_type": "code",
   "execution_count": 38,
   "metadata": {},
   "outputs": [
    {
     "name": "stdout",
     "output_type": "stream",
     "text": [
      "SGD: 0.36957712487581706\n",
      "Logistic Regression: 0.3602890831167405\n",
      "LinearSVC: 0.36916111074994923\n",
      "Random Forest: 0.38073002357683455\n"
     ]
    }
   ],
   "source": [
    "print(f'SGD: {log_loss(sgd_predict)}')\n",
    "print(f'Logistic Regression: {log_loss(lr_predict)}')\n",
    "print(f'LinearSVC: {log_loss(linear_svc_predict)}')\n",
    "print(f'Random Forest: {log_loss(rf_predict)}')"
   ]
  },
  {
   "cell_type": "code",
   "execution_count": 39,
   "metadata": {},
   "outputs": [
    {
     "name": "stdout",
     "output_type": "stream",
     "text": [
      "Voting: 0.3505806495460855\n"
     ]
    }
   ],
   "source": [
    "print(f'Voting: {log_loss(voting_predict)}')"
   ]
  },
  {
   "cell_type": "markdown",
   "metadata": {},
   "source": [
    "The higher the better for `roc_auc_score`..."
   ]
  },
  {
   "cell_type": "code",
   "execution_count": 40,
   "metadata": {},
   "outputs": [
    {
     "name": "stdout",
     "output_type": "stream",
     "text": [
      "SGD: 0.9202865438621544\n",
      "Logistic Regression: 0.9209814841258509\n",
      "LinearSVC: 0.9181636441525061\n",
      "Random Forest: 0.9228782902565567\n"
     ]
    }
   ],
   "source": [
    "print(f'SGD: {roc_auc_score(sgd_predict)}')\n",
    "print(f'Logistic Regression: {roc_auc_score(lr_predict)}')\n",
    "print(f'LinearSVC: {roc_auc_score(linear_svc_predict)}')\n",
    "print(f'Random Forest: {roc_auc_score(rf_predict)}')"
   ]
  },
  {
   "cell_type": "code",
   "execution_count": 41,
   "metadata": {},
   "outputs": [
    {
     "name": "stdout",
     "output_type": "stream",
     "text": [
      "Voting: 0.9323290018563473\n"
     ]
    }
   ],
   "source": [
    "print(f'Voting: {roc_auc_score(voting_predict)}')"
   ]
  },
  {
   "cell_type": "markdown",
   "metadata": {},
   "source": [
    "#### Performance on sample tasks"
   ]
  },
  {
   "cell_type": "code",
   "execution_count": 43,
   "metadata": {},
   "outputs": [
    {
     "name": "stdout",
     "output_type": "stream",
     "text": [
      "Dummy: [('neg', 0.0), ('neg', 0.0), ('neg', 0.0), ('neg', 0.0), ('pos', 1.0), ('neg', 0.0), ('pos', 1.0)]\n",
      "LogisticRegression: [('pos', 0.57862802137868552), ('pos', 0.82713746377398456), ('pos', 0.94137130453808182), ('pos', 0.82713746377398456), ('pos', 0.72197606789783497), ('pos', 0.82713746377398456), ('pos', 0.84117203120422435)]\n",
      "LinearSVC: [('pos', 0.62485948769521327), ('pos', 0.73801945489589904), ('pos', 0.8742231132727718), ('pos', 0.73801945489589904), ('pos', 0.70967647141483869), ('pos', 0.73801945489589904), ('pos', 0.76609305638857117)]\n",
      "SGD: [('pos', 0.60621072131342246), ('pos', 0.80304033735548375), ('pos', 0.9300899085422456), ('pos', 0.80304033735548375), ('pos', 0.70050625854824256), ('pos', 0.80304033735548375), ('pos', 0.82347772218132842)]\n",
      "Random Forest: [('pos', 0.52071951131625149), ('pos', 0.87285887236391291), ('pos', 0.74832988482365803), ('pos', 0.87285887236391291), ('pos', 0.80143704121964976), ('pos', 0.87285887236391291), ('pos', 0.84073885809507198)]\n",
      "\n",
      "Voting: [('pos', 0.56069809800114434), ('pos', 0.82035364117265086), ('pos', 0.83252323110236282), ('pos', 0.82035364117265086), ('pos', 0.75629257058438037), ('pos', 0.82035364117265086), ('pos', 0.81835575359455703)]\n"
     ]
    }
   ],
   "source": [
    "sample_tasks = [\"Mow lawn\", \"Mow the lawn\", \"Buy new shoes\", \"Feed the dog\", \"Send report to Kyle\", \"Send the report to Kyle\", \"Peel the potatoes\"]\n",
    "features = [featurize(nlp(task)) for task in sample_tasks]\n",
    "\n",
    "tasks_dummy = [(l, p.prob('pos')*1.0) for l, p in zip(dummy.classify_many(features), dummy.prob_classify_many(features))]\n",
    "tasks_logistic = [(l, p.prob('pos')) for l,p in zip(logistic_regression_opt.classify_many(features), logistic_regression_opt.prob_classify_many(features))]\n",
    "tasks_linear_svc = [(l, p.prob('pos')) for l,p in zip(linear_svc_opt.classify_many(features), linear_svc_opt.prob_classify_many(features))]\n",
    "tasks_sgd = [(l, p.prob('pos')) for l,p in zip(sgd_opt.classify_many(features), sgd_opt.prob_classify_many(features))]\n",
    "tasks_rf = [(l, p.prob('pos')) for l,p in zip(random_forest_opt.classify_many(features), random_forest_opt.prob_classify_many(features))]\n",
    "tasks_voting = [(l, p.prob('pos')) for l,p in zip(voting.classify_many(features), voting.prob_classify_many(features))]\n",
    "\n",
    "print(f'Dummy: {tasks_dummy}')\n",
    "print(f'LogisticRegression: {tasks_logistic}')\n",
    "print(f'LinearSVC: {tasks_linear_svc}')\n",
    "print(f'SGD: {tasks_sgd}')\n",
    "print(f'Random Forest: {tasks_rf}')\n",
    "print()\n",
    "print(f'Voting: {tasks_voting}')"
   ]
  },
  {
   "cell_type": "markdown",
   "metadata": {},
   "source": [
    "#### Voting Model: Curves"
   ]
  },
  {
   "cell_type": "code",
   "execution_count": 44,
   "metadata": {},
   "outputs": [
    {
     "data": {
      "image/png": "[encoded data removed]",
      "text/plain": [
       "<matplotlib.figure.Figure at 0x14ca36316a0>"
      ]
     },
     "metadata": {},
     "output_type": "display_data"
    }
   ],
   "source": [
    "import matplotlib.pyplot as plt\n",
    "\n",
    "precision, recall, prc_thresholds = precision_recall_curve(voting_predict)\n",
    "average_precision = average_precision_score(voting_predict)\n",
    "\n",
    "plt.figure()\n",
    "plt.step(recall, precision, color='b', alpha=0.2,\n",
    "         where='post')\n",
    "plt.fill_between(recall, precision, step='post', alpha=0.2,\n",
    "                 color='b')\n",
    "\n",
    "plt.xlabel('Recall')\n",
    "plt.ylabel('Precision')\n",
    "plt.ylim([0.0, 1.05])\n",
    "plt.xlim([0.0, 1.0])\n",
    "plt.title('2-class Precision-Recall curve: AUC={0:0.2f}'.format(\n",
    "          average_precision))\n",
    "plt.show()"
   ]
  },
  {
   "cell_type": "code",
   "execution_count": 45,
   "metadata": {},
   "outputs": [
    {
     "data": {
      "image/png": "[encoded data removed]",
      "text/plain": [
       "<matplotlib.figure.Figure at 0x14ca34d3438>"
      ]
     },
     "metadata": {},
     "output_type": "display_data"
    }
   ],
   "source": [
    "fpr, tpr, roc_thresholds = roc_curve(voting_predict)\n",
    "area = roc_auc_score(voting_predict)\n",
    "\n",
    "plt.figure()\n",
    "plt.step(fpr, tpr, color='b', alpha=0.2,\n",
    "         where='post')\n",
    "plt.fill_between(fpr, tpr, step='post', alpha=0.2,\n",
    "                 color='b')\n",
    "\n",
    "plt.xlabel('False Positive Rate')\n",
    "plt.ylabel('True Positive Rate')\n",
    "plt.ylim([0.0, 1.05])\n",
    "plt.xlim([0.0, 1.0])\n",
    "plt.title('Receiving Operating Characteristic: area={0:0.2f}'.format(\n",
    "          area))\n",
    "plt.show()"
   ]
  },
  {
   "cell_type": "markdown",
   "metadata": {},
   "source": [
    "Considered a bad idea to actually adjust predictions based on optimal `Threshold` from holdout test data curves - it's a form of overfitting on the test set: https://stackoverflow.com/questions/32627926/scikit-changing-the-threshold-to-create-multiple-confusion-matrixes (although using ROC to do this might be ok? or on cross-validated training data? https://stackoverflow.com/a/35300649)"
   ]
  },
  {
   "cell_type": "markdown",
   "metadata": {},
   "source": [
    "### Pickling the Voting Model"
   ]
  },
  {
   "cell_type": "code",
   "execution_count": 47,
   "metadata": {},
   "outputs": [
    {
     "name": "stdout",
     "output_type": "stream",
     "text": [
      "Exporting the voting model to model.pkl\n"
     ]
    }
   ],
   "source": [
    "import pickle\n",
    "\n",
    "print (\"Exporting the voting model to model.pkl\")\n",
    "with open('model.pkl', 'wb') as f:\n",
    "    pickle.dump(voting, f)"
   ]
  },
  {
   "cell_type": "code",
   "execution_count": 48,
   "metadata": {},
   "outputs": [
    {
     "name": "stdout",
     "output_type": "stream",
     "text": [
      "Importing the model from model.pkl\n",
      "New sample: Buy ice cream\n",
      "Predicted class is ('pos', 0.90561978802951215)\n"
     ]
    }
   ],
   "source": [
    "# load the model back into memory\n",
    "print(\"Importing the model from model.pkl\")\n",
    "with open('model.pkl', 'rb') as f:\n",
    "    loaded_clf = pickle.load(f)\n",
    "\n",
    "# predict on a new sample\n",
    "task_new = 'Buy ice cream'\n",
    "print ('New sample: {}'.format(task_new))\n",
    "\n",
    "# score on the new sample\n",
    "features = featurize(nlp(task_new));\n",
    "predict = [(l, p.prob('pos')) for l,p in zip(loaded_clf.classify_many(features), loaded_clf.prob_classify_many(features))]\n",
    "print('Predicted class is {}'.format(predict[0]))"
   ]
  },
  {
   "cell_type": "markdown",
   "metadata": {},
   "source": [
    "## Next Steps and Improvements\n",
    "\n",
    "1. Training set may be too specific/not relevant enough (recipe instructions for positive dataset, recipe descriptions+short movie reviews for negative dataset)\n",
    "2. Throwing features into a blender - need to understand value of each\n",
    "    - What feature \"classes\" tend to perform the best/worst?\n",
    "    - [PCA](http://jotterbach.github.io/2016/03/24/Principal_Component_Analysis/): Reducing dimensionality using most informative feature information\n",
    "3. Phrase vectorizations of all 0s - how problematic is this?\n",
    "4. Varying feature vector lengths - does this matter?\n",
    "5. Voting - POS taggers\n",
    "    - [SciKit Learn: Ensembles](http://scikit-learn.org/stable/modules/ensemble.html)\n",
    "    - [Kaggle Ensembling Guide](https://mlwave.com/kaggle-ensembling-guide/)\n",
    "6. Combining verb phrases\n",
    "7. Look at examples from different quadrants of the confusion matrix - is there something we can learn?\n",
    "    - Same idea with the classification report"
   ]
  },
  {
   "cell_type": "markdown",
   "metadata": {},
   "source": [
    "---\n",
    "# Things abandoned"
   ]
  },
  {
   "cell_type": "markdown",
   "metadata": {},
   "source": [
    "## NLTK"
   ]
  },
  {
   "cell_type": "markdown",
   "metadata": {},
   "source": [
    "I needed a library that supports dependency parsing, which NLTK does not... so I thought I'd add the [Stanford CoreNLP](https://stanfordnlp.github.io/CoreNLP/) toolkit and [its associated software](https://nlp.stanford.edu/software/) to NLTK. However, there are many conflicting instructions for installing the Java-based project, depending on NLTK version used. By the time I figured this out, the installation had become a time sink. So I abandoned this effort in favor of Spacy.io.\n",
    "\n",
    "I might return this way if I want to improve results/implement a voter system between the various linguistic and classification methods later."
   ]
  },
  {
   "cell_type": "code",
   "execution_count": null,
   "metadata": {
    "collapsed": true
   },
   "outputs": [],
   "source": [
    "import nltk\n",
    "from nltk.tokenize import sent_tokenize, word_tokenize"
   ]
  },
  {
   "cell_type": "code",
   "execution_count": null,
   "metadata": {
    "collapsed": true
   },
   "outputs": [],
   "source": [
    "nltk.download('punkt')\n",
    "nltk.download('averaged_perceptron_tagger')"
   ]
  },
  {
   "cell_type": "markdown",
   "metadata": {},
   "source": [
    "### Tokenization"
   ]
  },
  {
   "cell_type": "code",
   "execution_count": null,
   "metadata": {
    "collapsed": true
   },
   "outputs": [],
   "source": [
    "sentences = [s for l in lines for s in sent_tokenize(l)] # punkt\n",
    "sentences"
   ]
  },
  {
   "cell_type": "code",
   "execution_count": null,
   "metadata": {
    "collapsed": true
   },
   "outputs": [],
   "source": [
    "tagged_sentences = []\n",
    "for s in sentences:\n",
    "    words = word_tokenize(s)\n",
    "    tagged = nltk.pos_tag(words) # averaged_perceptron_tagger\n",
    "    tagged_sentences.append(tagged)\n",
    "print(tagged_sentences)"
   ]
  },
  {
   "cell_type": "markdown",
   "metadata": {},
   "source": [
    "#### Note: POS accuracy\n",
    "\n",
    "`Run down to the shop, will you, Peter` is parsed unexpectedly by `nltk.pos_tag`:\n",
    "> `[('Run', 'NNP'), ('down', 'RB'), ('to', 'TO'), ('the', 'DT'), ('shop', 'NN'), (',', ','), ('will', 'MD'), ('you', 'PRP'), (',', ','), ('Peter', 'NNP')]`\n",
    "\n",
    "`Run` is tagged as a `NNP (proper noun, singular)`\n",
    "\n",
    "I expected an output more like what the [Stanford Parser](http://nlp.stanford.edu:8080/parser/) provides:\n",
    "> `Run/VBG down/RP to/TO the/DT shop/NN ,/, will/MD you/PRP ,/, Peter/NNP`\n",
    "\n",
    "`Run` is tagged as a `VGB (verb, gerund/present participle)` - still not quite the `VB` I want, but at least it's a `V*`\n",
    "\n",
    "_MEANWHILE..._\n",
    "\n",
    "`nltk.pos_tag` did better with:\n",
    "> `[('Do', 'VB'), ('not', 'RB'), ('clean', 'VB'), ('soot', 'NN'), ('off', 'IN'), ('the', 'DT'), ('window', 'NN')]`\n",
    "\n",
    "Compared to [Stanford CoreNLP](http://nlp.stanford.edu:8080/corenlp/process) (note that this is different than what [Stanford Parser](http://nlp.stanford.edu:8080/parser/) outputs):\n",
    "> `(ROOT (S (VP (VB Do) (NP (RB not) (JJ clean) (NN soot)) (PP (IN off) (NP (DT the) (NN window))))))`\n",
    "\n",
    "Concern: _clean_ as `VB (verb, base form)` vs `JJ (adjective)` \n",
    "\n",
    "**IMPROVE** POS taggers should vote: nltk.pos_tag (averaged_perceptron_tagger), Stanford Parser, CoreNLP, etc."
   ]
  },
  {
   "cell_type": "markdown",
   "metadata": {},
   "source": [
    "Note what Spacy POS tagger did with `Run down to the shop, will you Peter`:\n",
    "\n",
    "`Run/VB down/RP to/IN the shop/NN ,/, will/MD you/PRP ,/, Peter/NNP`\n",
    "\n",
    "    where `Run` is the `VB` I expected from POS tagging (compared to `nltk.pos_tag` result of `NNP`). Also note that Spacy collapses `the shop` into a single unit, which should be helpful during featurization."
   ]
  },
  {
   "cell_type": "markdown",
   "metadata": {},
   "source": [
    "### Featurization"
   ]
  },
  {
   "cell_type": "code",
   "execution_count": null,
   "metadata": {
    "collapsed": true
   },
   "outputs": [],
   "source": [
    "import re\n",
    "from collections import defaultdict\n",
    "\n",
    "featuresets = []\n",
    "for ts in tagged_sentences:\n",
    "    s_features = defaultdict(int)\n",
    "    for idx, tup in enumerate(ts):\n",
    "        #print(tup)\n",
    "        pos = tup[1]\n",
    "        # FeatureName.VERB\n",
    "        is_verb = re.match(r'VB.?', pos) is not None\n",
    "        print(tup, is_verb)\n",
    "        if is_verb:\n",
    "            s_features[FeatureName.VERB] += 1\n",
    "            # FOLLOWING_POS\n",
    "            next_idx = idx + 1;\n",
    "            if next_idx < len(ts):\n",
    "                s_features[f'{FeatureName.FOLLOWING}_{ts[next_idx][1]}'] += 1\n",
    "            # VERB_MODIFIER\n",
    "            # VERB_MODIFYING\n",
    "        else:\n",
    "            s_features[FeatureName.VERB] = 0\n",
    "    featuresets.append(dict(s_features))\n",
    "\n",
    "print()\n",
    "print(featuresets)"
   ]
  },
  {
   "cell_type": "markdown",
   "metadata": {},
   "source": [
    "### [Stanford NLP](https://nlp.stanford.edu/software/)\n",
    "Setup guide used: https://stackoverflow.com/a/34112695"
   ]
  },
  {
   "cell_type": "code",
   "execution_count": null,
   "metadata": {
    "collapsed": true
   },
   "outputs": [],
   "source": [
    "# Get dependency parser, NER, POS tagger\n",
    "!wget https://nlp.stanford.edu/software/stanford-parser-full-2017-06-09.zip\n",
    "!wget https://nlp.stanford.edu/software/stanford-ner-2017-06-09.zip\n",
    "!wget https://nlp.stanford.edu/software/stanford-postagger-full-2017-06-09.zip\n",
    "!unzip stanford-parser-full-2017-06-09.zip\n",
    "!unzip stanford-ner-2017-06-09.zip\n",
    "!unzip stanford-postagger-full-2017-06-09.zip"
   ]
  },
  {
   "cell_type": "code",
   "execution_count": null,
   "metadata": {
    "collapsed": true
   },
   "outputs": [],
   "source": [
    "from nltk.parse.stanford import StanfordParser\n",
    "from nltk.parse.stanford import StanfordDependencyParser\n",
    "from nltk.parse.stanford import StanfordNeuralDependencyParser\n",
    "from nltk.tag.stanford import StanfordPOSTagger, StanfordNERTagger\n",
    "from nltk.tokenize.stanford import StanfordTokenizer"
   ]
  }
 ],
 "metadata": {
  "kernelspec": {
   "display_name": "Python 3",
   "language": "python",
   "name": "python3"
  },
  "language_info": {
   "codemirror_mode": {
    "name": "ipython",
    "version": 3
   },
   "file_extension": ".py",
   "mimetype": "text/x-python",
   "name": "python",
   "nbconvert_exporter": "python",
   "pygments_lexer": "ipython3",
   "version": "3.6.2"
  }
 },
 "nbformat": 4,
 "nbformat_minor": 2
}
