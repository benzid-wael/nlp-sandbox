{
 "cells": [
  {
   "cell_type": "code",
   "execution_count": 1,
   "metadata": {
    "collapsed": true
   },
   "outputs": [],
   "source": [
    "import os\n",
    "import nltk\n",
    "from nltk.tokenize import sent_tokenize, word_tokenize"
   ]
  },
  {
   "cell_type": "code",
   "execution_count": 2,
   "metadata": {
    "collapsed": true
   },
   "outputs": [],
   "source": [
    "BASE_DIR = os.getcwd()\n",
    "\n",
    "data_path = BASE_DIR + '/imp_set.txt'"
   ]
  },
  {
   "cell_type": "markdown",
   "metadata": {},
   "source": [
    "### Data"
   ]
  },
  {
   "cell_type": "code",
   "execution_count": 3,
   "metadata": {},
   "outputs": [
    {
     "name": "stdout",
     "output_type": "stream",
     "text": [
      "[nltk_data] Downloading package punkt to\n",
      "[nltk_data]     C:\\Users\\narho_000\\AppData\\Roaming\\nltk_data...\n",
      "[nltk_data]   Package punkt is already up-to-date!\n",
      "[nltk_data] Downloading package averaged_perceptron_tagger to\n",
      "[nltk_data]     C:\\Users\\narho_000\\AppData\\Roaming\\nltk_data...\n",
      "[nltk_data]   Package averaged_perceptron_tagger is already up-to-\n",
      "[nltk_data]       date!\n"
     ]
    },
    {
     "data": {
      "text/plain": [
       "True"
      ]
     },
     "execution_count": 3,
     "metadata": {},
     "output_type": "execute_result"
    }
   ],
   "source": [
    "nltk.download('punkt')\n",
    "nltk.download('averaged_perceptron_tagger')"
   ]
  },
  {
   "cell_type": "code",
   "execution_count": 4,
   "metadata": {
    "collapsed": true
   },
   "outputs": [],
   "source": [
    "data = open(data_path, 'r').read()"
   ]
  },
  {
   "cell_type": "markdown",
   "metadata": {},
   "source": [
    "### Tokenization"
   ]
  },
  {
   "cell_type": "code",
   "execution_count": 5,
   "metadata": {
    "collapsed": true
   },
   "outputs": [],
   "source": [
    "lines = []\n",
    "for l in data.split('\\n'):\n",
    "    lines.append(l)"
   ]
  },
  {
   "cell_type": "code",
   "execution_count": 6,
   "metadata": {},
   "outputs": [
    {
     "data": {
      "text/plain": [
       "['Be kind',\n",
       " 'Get out of here',\n",
       " 'Look this over',\n",
       " 'Paul, do your homework now',\n",
       " 'Do not clean soot off the window',\n",
       " 'Turn your phones off, please',\n",
       " 'Run down to the shop, will you, Peter']"
      ]
     },
     "execution_count": 6,
     "metadata": {},
     "output_type": "execute_result"
    }
   ],
   "source": [
    "sentences = [s for l in lines for s in sent_tokenize(l)] # punkt\n",
    "sentences"
   ]
  },
  {
   "cell_type": "code",
   "execution_count": 7,
   "metadata": {},
   "outputs": [
    {
     "name": "stdout",
     "output_type": "stream",
     "text": [
      "[[('Be', 'VB'), ('kind', 'NN')], [('Get', 'VB'), ('out', 'IN'), ('of', 'IN'), ('here', 'RB')], [('Look', 'VB'), ('this', 'DT'), ('over', 'IN')], [('Paul', 'NNP'), (',', ','), ('do', 'VB'), ('your', 'PRP$'), ('homework', 'NN'), ('now', 'RB')], [('Do', 'VB'), ('not', 'RB'), ('clean', 'VB'), ('soot', 'NN'), ('off', 'IN'), ('the', 'DT'), ('window', 'NN')], [('Turn', 'VB'), ('your', 'PRP$'), ('phones', 'NNS'), ('off', 'RP'), (',', ','), ('please', 'VB')], [('Run', 'NNP'), ('down', 'RB'), ('to', 'TO'), ('the', 'DT'), ('shop', 'NN'), (',', ','), ('will', 'MD'), ('you', 'PRP'), (',', ','), ('Peter', 'NNP')]]\n"
     ]
    }
   ],
   "source": [
    "tagged_sentences = []\n",
    "for s in sentences:\n",
    "    words = word_tokenize(s)\n",
    "    tagged = nltk.pos_tag(words) # averaged_perceptron_tagger\n",
    "    tagged_sentences.append(tagged)\n",
    "print(tagged_sentences)"
   ]
  },
  {
   "cell_type": "markdown",
   "metadata": {},
   "source": [
    "#### Note: POS accuracy\n",
    "\n",
    "`Run down to the shop, will you, Peter` is parsed unexpectedly by `nltk.pos_tag`:\n",
    "> `[('Run', 'NNP'), ('down', 'RB'), ('to', 'TO'), ('the', 'DT'), ('shop', 'NN'), (',', ','), ('will', 'MD'), ('you', 'PRP'), (',', ','), ('Peter', 'NNP')]`\n",
    "\n",
    "`Run` is tagged as a `NNP (proper noun, singular)`\n",
    "\n",
    "I expected an output more like what the [Stanford Parser](http://nlp.stanford.edu:8080/parser/) provides:\n",
    "> `Run/VBG down/RP to/TO the/DT shop/NN ,/, will/MD you/PRP ,/, Peter/NNP`\n",
    "\n",
    "`Run` is tagged as a `VGB (verb, gerund/present participle)` - still not quite the `VB` I want, but at least it's a `V*`\n",
    "\n",
    "_MEANWHILE..._\n",
    "\n",
    "`nltk.pos_tag` did better with:\n",
    "> `[('Do', 'VB'), ('not', 'RB'), ('clean', 'VB'), ('soot', 'NN'), ('off', 'IN'), ('the', 'DT'), ('window', 'NN')]`\n",
    "\n",
    "Compared to [Stanford CoreNLP](http://nlp.stanford.edu:8080/corenlp/process) (note that this is different than what [Stanford Parser](http://nlp.stanford.edu:8080/parser/) outputs):\n",
    "> `(ROOT (S (VP (VB Do) (NP (RB not) (JJ clean) (NN soot)) (PP (IN off) (NP (DT the) (NN window))))))`\n",
    "\n",
    "Concern: _clean_ as `VB (verb, base form)` vs `JJ (adjective)` \n",
    "\n",
    "**IMPROVE** POS taggers should vote: nltk.pos_tag (averaged_perceptron_tagger), Stanford Parser, CoreNLP, etc."
   ]
  },
  {
   "cell_type": "markdown",
   "metadata": {},
   "source": [
    "### Featurization"
   ]
  },
  {
   "cell_type": "code",
   "execution_count": 8,
   "metadata": {
    "collapsed": true
   },
   "outputs": [],
   "source": [
    "from enum import Enum, auto\n",
    "class FeatureName(Enum):\n",
    "    VERB = auto() # does this sentence contain a VB*?\n",
    "    FOLLOWING = auto() # is the following word a <POS>? postfixed with _<POS>\n",
    "    VERB_MODIFIER = auto() # is a <POS> modifying the verb?\n",
    "    VERB_MODIFYING = auto() # is the verb modifying a <POS>?"
   ]
  },
  {
   "cell_type": "code",
   "execution_count": 11,
   "metadata": {},
   "outputs": [
    {
     "name": "stdout",
     "output_type": "stream",
     "text": [
      "('Be', 'VB') True\n",
      "('kind', 'NN') False\n",
      "('Get', 'VB') True\n",
      "('out', 'IN') False\n",
      "('of', 'IN') False\n",
      "('here', 'RB') False\n",
      "('Look', 'VB') True\n",
      "('this', 'DT') False\n",
      "('over', 'IN') False\n",
      "('Paul', 'NNP') False\n",
      "(',', ',') False\n",
      "('do', 'VB') True\n",
      "('your', 'PRP$') False\n",
      "('homework', 'NN') False\n",
      "('now', 'RB') False\n",
      "('Do', 'VB') True\n",
      "('not', 'RB') False\n",
      "('clean', 'VB') True\n",
      "('soot', 'NN') False\n",
      "('off', 'IN') False\n",
      "('the', 'DT') False\n",
      "('window', 'NN') False\n",
      "('Turn', 'VB') True\n",
      "('your', 'PRP$') False\n",
      "('phones', 'NNS') False\n",
      "('off', 'RP') False\n",
      "(',', ',') False\n",
      "('please', 'VB') True\n",
      "('Run', 'NNP') False\n",
      "('down', 'RB') False\n",
      "('to', 'TO') False\n",
      "('the', 'DT') False\n",
      "('shop', 'NN') False\n",
      "(',', ',') False\n",
      "('will', 'MD') False\n",
      "('you', 'PRP') False\n",
      "(',', ',') False\n",
      "('Peter', 'NNP') False\n",
      "\n",
      "[{<FeatureName.VERB: 1>: 0, 'FeatureName.FOLLOWING_NN': 1}, {<FeatureName.VERB: 1>: 0, 'FeatureName.FOLLOWING_IN': 1}, {<FeatureName.VERB: 1>: 0, 'FeatureName.FOLLOWING_DT': 1}, {<FeatureName.VERB: 1>: 0, 'FeatureName.FOLLOWING_PRP$': 1}, {<FeatureName.VERB: 1>: 0, 'FeatureName.FOLLOWING_RB': 1, 'FeatureName.FOLLOWING_NN': 1}, {<FeatureName.VERB: 1>: 1, 'FeatureName.FOLLOWING_PRP$': 1}, {<FeatureName.VERB: 1>: 0}]\n"
     ]
    }
   ],
   "source": [
    "import re\n",
    "from collections import defaultdict\n",
    "\n",
    "featuresets = []\n",
    "for ts in tagged_sentences:\n",
    "    s_features = defaultdict(int)\n",
    "    for idx, tup in enumerate(ts):\n",
    "        #print(tup)\n",
    "        pos = tup[1]\n",
    "        # FeatureName.VERB\n",
    "        is_verb = re.match(r\"VB.?\", pos) is not None\n",
    "        print(tup, is_verb)\n",
    "        if is_verb:\n",
    "            s_features[FeatureName.VERB] += 1\n",
    "            # FOLLOWING_POS\n",
    "            next_idx = idx + 1;\n",
    "            if next_idx < len(ts):\n",
    "                s_features[f\"{FeatureName.FOLLOWING}_{ts[next_idx][1]}\"] += 1\n",
    "            # VERB_MODIFIER\n",
    "            # VERB_MODIFYING\n",
    "        else:\n",
    "            s_features[FeatureName.VERB] = 0\n",
    "    featuresets.append(dict(s_features))\n",
    "\n",
    "print()\n",
    "print(featuresets)"
   ]
  },
  {
   "cell_type": "code",
   "execution_count": null,
   "metadata": {
    "collapsed": true
   },
   "outputs": [],
   "source": []
  }
 ],
 "metadata": {
  "kernelspec": {
   "display_name": "Python 3",
   "language": "python",
   "name": "python3"
  },
  "language_info": {
   "codemirror_mode": {
    "name": "ipython",
    "version": 3
   },
   "file_extension": ".py",
   "mimetype": "text/x-python",
   "name": "python",
   "nbconvert_exporter": "python",
   "pygments_lexer": "ipython3",
   "version": "3.6.1"
  }
 },
 "nbformat": 4,
 "nbformat_minor": 2
}
