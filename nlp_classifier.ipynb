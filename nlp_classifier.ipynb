{
 "cells": [
  {
   "cell_type": "markdown",
   "metadata": {},
   "source": [
    "## NLP for Task Classification"
   ]
  },
  {
   "cell_type": "markdown",
   "metadata": {},
   "source": [
    "**Hypothesis**: Part of Speech (POS) tagging and syntactic dependency parsing provides valuable information for classifying imperative phrases. The thinking is that being able to detect imperative phrases will transfer well to detecting tasks and to-dos.\n",
    "\n",
    "#### Some Terminology\n",
    "- [_Imperative mood_](https://en.wikipedia.org/wiki/Imperative_mood) is \"used principally for ordering, requesting or advising the listener to do (or not to do) something... also often used for giving instructions as to how to perform a task.\"\n",
    "- _Part of speech (POS)_ is a way of categorizing a word based on its syntactic function.\n",
    "    - The POS tagger from Spacy.io that is used in this notebook differentiates between [*pos_* and *tag_*](https://spacy.io/docs/api/annotation#pos-tagging-english) - *POS (pos_)* refers to \"coarse-grained part-of-speech\" like `VERB`, `ADJ`, or `PUNCT`; and *POSTAG (tag_)* refers to \"fine-grained part-of-speech\" like `VB`, `JJ`, or `.`.\n",
    "- _Syntactic dependency parsing_ is a way of connecting words based on syntactic relationships, [such as](https://spacy.io/docs/api/annotation#dependency-parsing-english) `DOBJ` (direct object), `PREP` (prepositional modifier), or `POBJ` (object of preposition).\n",
    "    - Check out the dependency parse of the phrase [\"Send the report to Kyle by tomorrow\"](https://demos.explosion.ai/displacy/?text=Send%20the%20report%20to%20Kyle%20by%20tomorrow&model=en&cpu=1&cph=1) as an example.\n",
    "\n",
    "### Proposed Features\n",
    "The imperative mood centers around _actions_, and actions are generally represented in English using verbs. So the features are engineered to also center on the VERB:\n",
    "1. `FeatureName.VERB`: Does the phrase contain `VERB`(s) of the tag form `VB*`?\n",
    "2. `FeatureName.FOLLOWING_POS`: Are the words following the `VERB`(s) of certain parts of speech?\n",
    "3. `FeatureName.FOLLOWING_POSTAG`: Are the words following the `VERB`(s) of certain POS tags?\n",
    "4. `FeatureName.CHILD_DEP`: Are the `VERB`(s) parents of certain syntactic dependencies?\n",
    "5. `FeatureName.PARENT_DEP`: Are the `VERB`(s) children of certain syntactic dependencies?\n",
    "6. `FeatureName.CHILD_POS`: Are the syntactic dependencies that the `VERB`(s) are children of of certain parts of speech?\n",
    "7. `FeatureName.CHILD_POSTAG`: Are the syntactic dependencies that the `VERB`(s) are children of of certain POS tags?\n",
    "8. `FeatureName.PARENT_POS`: Are the syntactic dependencies that the `VERB`(s) parent of certain parts of speech?\n",
    "9. `FeatureName.PARENT_POSTAG`: Are the syntactic dependencies that the `VERB`(s) parent of certain POS tags?\n",
    "\n",
    "**Notes:**\n",
    "- Features 2-9 all depend on feature 1 between `True`; if `False`, phrase vectorization will result in all zeroes.\n",
    "- When features 2-9 are applied to actual phrases, they will append identifying informating about the feature in the form of `_*` (e.g., `FeatureName.FOLLOWING_POSTAG_WRB`)."
   ]
  },
  {
   "cell_type": "markdown",
   "metadata": {},
   "source": [
    "## Data and Setup"
   ]
  },
  {
   "cell_type": "markdown",
   "metadata": {},
   "source": [
    "### Building a recipe corpus"
   ]
  },
  {
   "cell_type": "markdown",
   "metadata": {},
   "source": [
    "I wrote and ran `epicurious_recipes.py`\\* to scrape Epicurious.com for recipe instructions and descriptions. I then performed some manual cleanup of the script results. Output is in `epicurious-pos.txt` and `epicurious-neg.txt`.\n",
    "\n",
    "\\* _script (very) loosely based off of https://github.com/benosment/hrecipe-parse_"
   ]
  },
  {
   "cell_type": "markdown",
   "metadata": {},
   "source": [
    "**Note** that deriving all negative examples in the training set from Epicurious recipe descriptions would result in negative examples that are longer and syntactically more complicated than the positive examples. This is a form of bias.\n",
    "\n",
    "To (hopefully?) correct for this a bit, I will add the short movie reviews found at https://pythonprogramming.net/static/downloads/short_reviews/ as more negative examples.\n",
    "\n",
    "This still feels weird because we're selecting negative examples only from specific categories of text (recipe descriptions, short movie reviews) - just because they're readily available. Further, most positive examples are recipe instructions - also a specific (and not necessarily related to the main \"task\" category) category of text.\n",
    "\n",
    "Ultimately though, this recipe corpus is a **stopgap/proof of concept** for a corpus more relevant to tasks later on, so I won't worry further about this for now."
   ]
  },
  {
   "cell_type": "code",
   "execution_count": 1,
   "metadata": {
    "collapsed": true
   },
   "outputs": [],
   "source": [
    "import os\n",
    "from pandas import read_csv\n",
    "from numpy import random"
   ]
  },
  {
   "cell_type": "code",
   "execution_count": 2,
   "metadata": {
    "collapsed": true
   },
   "outputs": [],
   "source": [
    "BASE_DIR = os.getcwd()\n",
    "data_path = BASE_DIR + '/data.tsv'"
   ]
  },
  {
   "cell_type": "code",
   "execution_count": 3,
   "metadata": {},
   "outputs": [
    {
     "data": {
      "text/html": [
       "<div>\n",
       "<style>\n",
       "    .dataframe thead tr:only-child th {\n",
       "        text-align: right;\n",
       "    }\n",
       "\n",
       "    .dataframe thead th {\n",
       "        text-align: left;\n",
       "    }\n",
       "\n",
       "    .dataframe tbody tr th {\n",
       "        vertical-align: top;\n",
       "    }\n",
       "</style>\n",
       "<table border=\"1\" class=\"dataframe\">\n",
       "  <thead>\n",
       "    <tr style=\"text-align: right;\">\n",
       "      <th></th>\n",
       "      <th>Text</th>\n",
       "      <th>Label</th>\n",
       "    </tr>\n",
       "  </thead>\n",
       "  <tbody>\n",
       "    <tr>\n",
       "      <th>0</th>\n",
       "      <td>Be kind</td>\n",
       "      <td>pos</td>\n",
       "    </tr>\n",
       "    <tr>\n",
       "      <th>1</th>\n",
       "      <td>Get out of here</td>\n",
       "      <td>pos</td>\n",
       "    </tr>\n",
       "    <tr>\n",
       "      <th>2</th>\n",
       "      <td>Look this over</td>\n",
       "      <td>pos</td>\n",
       "    </tr>\n",
       "    <tr>\n",
       "      <th>3</th>\n",
       "      <td>Paul, do your homework now</td>\n",
       "      <td>pos</td>\n",
       "    </tr>\n",
       "    <tr>\n",
       "      <th>4</th>\n",
       "      <td>Do not clean soot off the window</td>\n",
       "      <td>pos</td>\n",
       "    </tr>\n",
       "  </tbody>\n",
       "</table>\n",
       "</div>"
      ],
      "text/plain": [
       "                               Text Label\n",
       "0                           Be kind   pos\n",
       "1                   Get out of here   pos\n",
       "2                    Look this over   pos\n",
       "3        Paul, do your homework now   pos\n",
       "4  Do not clean soot off the window   pos"
      ]
     },
     "execution_count": 3,
     "metadata": {},
     "output_type": "execute_result"
    }
   ],
   "source": [
    "df = read_csv(data_path, sep='\\t', header=None, names=['Text', 'Label'])\n",
    "df.head()"
   ]
  },
  {
   "cell_type": "code",
   "execution_count": 4,
   "metadata": {
    "collapsed": true
   },
   "outputs": [],
   "source": [
    "pos_data_split = list(df.loc[df.Label == 'pos'].Text)\n",
    "neg_data_split = list(df.loc[df.Label == 'neg'].Text)\n",
    "\n",
    "num_pos = len(pos_data_split)\n",
    "num_neg = len(neg_data_split)\n",
    "\n",
    "# 50/50 split between the number of positive and negative samples\n",
    "num_per_class = num_pos if num_pos < num_neg else num_neg\n",
    "\n",
    "# shuffle samples\n",
    "random.shuffle(pos_data_split)\n",
    "random.shuffle(neg_data_split)"
   ]
  },
  {
   "cell_type": "code",
   "execution_count": 5,
   "metadata": {
    "collapsed": true
   },
   "outputs": [],
   "source": [
    "lines = []\n",
    "for l in pos_data_split[:num_per_class]:\n",
    "    lines.append((l, 'pos'))\n",
    "for l in neg_data_split[:num_per_class]:\n",
    "    lines.append((l, 'neg'))"
   ]
  },
  {
   "cell_type": "code",
   "execution_count": 6,
   "metadata": {
    "collapsed": true
   },
   "outputs": [],
   "source": [
    "# Features as defined in the introduction\n",
    "from enum import Enum, auto\n",
    "class FeatureName(Enum):\n",
    "    VERB = auto()\n",
    "    FOLLOWING_POS = auto()\n",
    "    FOLLOWING_POSTAG = auto()\n",
    "    CHILD_DEP = auto()\n",
    "    PARENT_DEP = auto()\n",
    "    CHILD_POS = auto()\n",
    "    CHILD_POSTAG = auto()\n",
    "    PARENT_POS = auto()\n",
    "    PARENT_POSTAG = auto()"
   ]
  },
  {
   "cell_type": "markdown",
   "metadata": {},
   "source": [
    "## [spaCy.io](https://spacy.io/) for NLP\n",
    "_Because Stanford CoreNLP is hard to install for Python_\n",
    "\n",
    "Found Spacy through an article on [\"Training a Classifier for Relation Extraction from Medical Literature\"](https://www.microsoft.com/developerblog/2016/09/13/training-a-classifier-for-relation-extraction-from-medical-literature/) ([GitHub](https://github.com/CatalystCode/corpus-to-graph-ml))"
   ]
  },
  {
   "cell_type": "markdown",
   "metadata": {},
   "source": [
    "<img src=\"nltk_library_comparison.png\" alt=\"NLTK library comparison chart https://spacy.io/docs/api/#comparison\" style=\"width: 400px; margin: 0;\"/>"
   ]
  },
  {
   "cell_type": "code",
   "execution_count": 7,
   "metadata": {
    "collapsed": true
   },
   "outputs": [],
   "source": [
    "#!conda config --add channels conda-forge\n",
    "#!conda install spacy\n",
    "#!python -m spacy download en"
   ]
  },
  {
   "cell_type": "markdown",
   "metadata": {},
   "source": [
    "### Using the Spacy Data Model for NLP"
   ]
  },
  {
   "cell_type": "code",
   "execution_count": 8,
   "metadata": {
    "collapsed": true
   },
   "outputs": [],
   "source": [
    "import spacy\n",
    "nlp = spacy.load('en')"
   ]
  },
  {
   "cell_type": "markdown",
   "metadata": {},
   "source": [
    "Spacy's sentence segmentation is lacking... https://github.com/explosion/spaCy/issues/235. So each '\\n' will start a new Spacy Doc."
   ]
  },
  {
   "cell_type": "code",
   "execution_count": 9,
   "metadata": {
    "collapsed": true
   },
   "outputs": [],
   "source": [
    "def create_spacy_docs(ll):\n",
    "    dd = [(nlp(l[0]), l[1]) for l in ll]\n",
    "    # collapse noun phrases into single compounds\n",
    "    for d in dd:\n",
    "        for np in d[0].noun_chunks:\n",
    "            np.merge(np.root.tag_, np.text, np.root.ent_type_)\n",
    "    return dd"
   ]
  },
  {
   "cell_type": "code",
   "execution_count": 10,
   "metadata": {
    "collapsed": true
   },
   "outputs": [],
   "source": [
    "docs = create_spacy_docs(lines)"
   ]
  },
  {
   "cell_type": "markdown",
   "metadata": {},
   "source": [
    "### NLP output"
   ]
  },
  {
   "cell_type": "markdown",
   "metadata": {},
   "source": [
    "Tokenization, POS tagging, and dependency parsing happened automatically with the `nlp(line)` calls above! So let's look at the outputs.\n",
    "\n",
    "https://spacy.io/docs/usage/data-model and https://spacy.io/docs/api/doc will be useful going forward"
   ]
  },
  {
   "cell_type": "code",
   "execution_count": 11,
   "metadata": {},
   "outputs": [
    {
     "name": "stdout",
     "output_type": "stream",
     "text": [
      "[Spread on a rimmed baking sheet and roast until an instant-read thermometer inserted into thickest part of thigh registers 165°F, 15–17 minutes.]\n",
      "[Thread 2 pieces of chicken onto each skewer.]\n",
      "[Peel off the top layer of cling film then invert the pastry circle into the prepared tart tin, gently pressing it into all the edges.]\n",
      "[Remove the thin clear sliver of cartilage; discard.]\n",
      "[Butter a 9x9-inch cake pan.]\n",
      "[Serve with a crunchy green salad.]\n",
      "[Let steep 4 minutes. Discard tea bags and let cool slightly (you should have about 3 1/2 cups tea).]\n",
      "[Serve with sauces alongside, if desired.]\n",
      "[Transfer chickens to a cutting board and let rest at least 10 minutes before carving.]\n",
      "[Blend lemonade ice cubes, 1/2 cup vodka, and 1/2 cup lemonade in a blender until smooth.]\n"
     ]
    }
   ],
   "source": [
    "for doc in docs[:10]:\n",
    "    print(list(doc[0].sents))"
   ]
  },
  {
   "cell_type": "code",
   "execution_count": 12,
   "metadata": {},
   "outputs": [
    {
     "name": "stdout",
     "output_type": "stream",
     "text": [
      "[a rimmed baking sheet, roast, an instant-read thermometer, thickest part, thigh registers]\n",
      "[Thread 2 pieces, chicken, each skewer]\n",
      "[Peel, the top layer, film, the pastry circle, the prepared tart tin, it, all the edges]\n",
      "[the thin clear sliver, cartilage]\n",
      "[a 9x9-inch cake pan]\n",
      "[a crunchy green salad]\n",
      "[tea bags, you, about 3 1/2 cups tea]\n",
      "[sauces]\n",
      "[Transfer chickens, a cutting board]\n",
      "[lemonade ice cubes, 1/2 cup vodka, 1/2 cup lemonade, a blender]\n"
     ]
    }
   ],
   "source": [
    "for doc in docs[:10]:\n",
    "    print(list(doc[0].noun_chunks))"
   ]
  },
  {
   "cell_type": "markdown",
   "metadata": {},
   "source": [
    "[Spacy's dependency graph visualization](https://demos.explosion.ai/displacy)"
   ]
  },
  {
   "cell_type": "code",
   "execution_count": 13,
   "metadata": {},
   "outputs": [
    {
     "name": "stdout",
     "output_type": "stream",
     "text": [
      "Spread ROOT spread VERB VB Spread [on, until, .]\n",
      "on prep on ADP IN Spread [a rimmed baking sheet]\n",
      "a rimmed baking sheet pobj a rimmed baking sheet NOUN NN on [and, roast]\n",
      "and cc and CCONJ CC a rimmed baking sheet []\n",
      "roast conj roast NOUN NN a rimmed baking sheet []\n",
      "until prep until ADP IN Spread [an instant-read thermometer]\n",
      "an instant-read thermometer pobj an instant-read thermometer NOUN NN until [inserted]\n",
      "inserted acl insert VERB VBN an instant-read thermometer [into, minutes]\n",
      "into prep into ADP IN inserted [thickest part]\n",
      "thickest part pobj thickest part NOUN NN into [of]\n",
      "of prep of ADP IN thickest part [thigh registers]\n",
      "thigh registers pobj thigh registers NOUN NNS of [165°F]\n",
      "165°F appos 165°f NUM CD thigh registers [,]\n",
      ", punct , PUNCT , 165°F []\n",
      "15–17 nummod 15–17 NUM CD minutes []\n",
      "minutes npadvmod minute NOUN NNS inserted [15–17]\n",
      ". punct . PUNCT . Spread []\n",
      "Thread 2 pieces ROOT Thread 2 pieces NOUN NNS Thread 2 pieces [of, onto, .]\n",
      "of prep of ADP IN Thread 2 pieces [chicken]\n",
      "chicken pobj chicken NOUN NN of []\n",
      "onto prep onto ADP IN Thread 2 pieces [each skewer]\n",
      "each skewer pobj each skewer NOUN NN onto []\n",
      ". punct . PUNCT . Thread 2 pieces []\n",
      "Peel ROOT Peel PROPN NNP Peel [off, invert]\n",
      "off prep off ADP IN Peel [the top layer]\n",
      "the top layer pobj the top layer NOUN NN off [of]\n",
      "of prep of ADP IN the top layer [cling]\n",
      "cling pcomp cl VERB VBG of [film]\n",
      "film dobj film NOUN NN cling []\n",
      "then advmod then ADV RB invert []\n",
      "invert dep invert VERB VB Peel [then, the pastry circle, into, pressing, .]\n",
      "the pastry circle dobj the pastry circle NOUN NN invert []\n",
      "into prep into ADP IN invert [the prepared tart tin]\n",
      "the prepared tart tin pobj the prepared tart tin NOUN NN into [,]\n",
      ", punct , PUNCT , the prepared tart tin []\n",
      "gently advmod gently ADV RB pressing []\n",
      "pressing advcl press VERB VBG invert [gently, it, into]\n",
      "it dobj it PRON PRP pressing []\n",
      "into prep into ADP IN pressing [all the edges]\n",
      "all the edges pobj all the edges NOUN NNS into []\n",
      ". punct . PUNCT . invert []\n",
      "Remove ROOT remove VERB VB Remove [discard, .]\n",
      "the thin clear sliver nsubj the thin clear sliver NOUN NN discard [of]\n",
      "of prep of ADP IN the thin clear sliver [cartilage]\n",
      "cartilage pobj cartilage NOUN NN of [;]\n",
      "; punct ; PUNCT , cartilage []\n",
      "discard ccomp discard NOUN NN Remove [the thin clear sliver]\n",
      ". punct . PUNCT . Remove []\n",
      "Butter ROOT butter VERB VB Butter [a 9x9-inch cake pan, .]\n",
      "a 9x9-inch cake pan dobj a 9x9-inch cake pan NOUN NN Butter []\n",
      ". punct . PUNCT . Butter []\n"
     ]
    }
   ],
   "source": [
    "for doc in docs[:5]:\n",
    "    for token in doc[0]:\n",
    "        print(token.text, token.dep_, token.lemma_, token.pos_, token.tag_, token.head, list(token.children))"
   ]
  },
  {
   "cell_type": "markdown",
   "metadata": {},
   "source": [
    "### Featurization"
   ]
  },
  {
   "cell_type": "code",
   "execution_count": 14,
   "metadata": {
    "collapsed": true
   },
   "outputs": [],
   "source": [
    "import re\n",
    "from collections import defaultdict\n",
    "\n",
    "def featurize(d):\n",
    "    s_features = defaultdict(int)\n",
    "    for idx, token in enumerate(d):\n",
    "        if re.match(r'VB.?', token.tag_) is not None: # note: not using token.pos == VERB because this also includes BES, HVS, MD tags \n",
    "            s_features[FeatureName.VERB.name] += 1\n",
    "            # FOLLOWING_POS\n",
    "            # FOLLOWING_POSTAG\n",
    "            next_idx = idx + 1;\n",
    "            if next_idx < len(d):\n",
    "                s_features[f'{FeatureName.FOLLOWING_POS.name}_{d[next_idx].pos_}'] += 1\n",
    "                s_features[f'{FeatureName.FOLLOWING_POSTAG.name}_{d[next_idx].tag_}'] += 1\n",
    "            # PARENT_DEP\n",
    "            # PARENT_POS\n",
    "            # PARENT_POSTAG\n",
    "            '''\n",
    "            \"Because the syntactic relations form a tree, every word has exactly one head.\n",
    "            You can therefore iterate over the arcs in the tree by iterating over the words in the sentence.\"\n",
    "            https://spacy.io/docs/usage/dependency-parse#navigating\n",
    "            '''\n",
    "            if (token.head is not token):\n",
    "                s_features[f'{FeatureName.PARENT_DEP.name}_{token.head.dep_.upper()}'] += 1\n",
    "                s_features[f'{FeatureName.PARENT_POS.name}_{token.head.pos_}'] += 1\n",
    "                s_features[f'{FeatureName.PARENT_POSTAG.name}_{token.head.tag_}'] += 1\n",
    "            # CHILD_DEP\n",
    "            # CHILD_POS\n",
    "            # CHILD_POSTAG\n",
    "            for child in token.children:\n",
    "                s_features[f'{FeatureName.CHILD_DEP.name}_{child.dep_.upper()}'] += 1\n",
    "                s_features[f'{FeatureName.CHILD_POS.name}_{child.pos_}'] += 1\n",
    "                s_features[f'{FeatureName.CHILD_POSTAG.name}_{child.tag_}'] += 1\n",
    "    return dict(s_features)"
   ]
  },
  {
   "cell_type": "code",
   "execution_count": 15,
   "metadata": {
    "collapsed": true
   },
   "outputs": [],
   "source": [
    "featuresets = [(doc[0], (featurize(doc[0]), doc[1])) for doc in docs]"
   ]
  },
  {
   "cell_type": "code",
   "execution_count": 16,
   "metadata": {},
   "outputs": [
    {
     "name": "stdout",
     "output_type": "stream",
     "text": [
      "Stats on number of features per example:\n",
      "mean: 23.039031836022676\n",
      "stdev: 14.543193390809183\n",
      "median: 23.0\n",
      "mode: 0\n",
      "max: 75\n",
      "min: 0\n"
     ]
    }
   ],
   "source": [
    "from statistics import mean, median, mode, stdev\n",
    "f_lengths = [len(fs[1][0]) for fs in featuresets]\n",
    "\n",
    "print('Stats on number of features per example:')\n",
    "print(f'mean: {mean(f_lengths)}')\n",
    "print(f'stdev: {stdev(f_lengths)}')\n",
    "print(f'median: {median(f_lengths)}')\n",
    "print(f'mode: {mode(f_lengths)}')\n",
    "print(f'max: {max(f_lengths)}')\n",
    "print(f'min: {min(f_lengths)}')"
   ]
  },
  {
   "cell_type": "code",
   "execution_count": 17,
   "metadata": {},
   "outputs": [
    {
     "data": {
      "text/plain": [
       "[(Spread on a rimmed baking sheet and roast until an instant-read thermometer inserted into thickest part of thigh registers 165°F, 15–17 minutes.,\n",
       "  ({'CHILD_DEP_NPADVMOD': 1,\n",
       "    'CHILD_DEP_PREP': 3,\n",
       "    'CHILD_DEP_PUNCT': 1,\n",
       "    'CHILD_POSTAG_.': 1,\n",
       "    'CHILD_POSTAG_IN': 3,\n",
       "    'CHILD_POSTAG_NNS': 1,\n",
       "    'CHILD_POS_ADP': 3,\n",
       "    'CHILD_POS_NOUN': 1,\n",
       "    'CHILD_POS_PUNCT': 1,\n",
       "    'FOLLOWING_POSTAG_IN': 2,\n",
       "    'FOLLOWING_POS_ADP': 2,\n",
       "    'PARENT_DEP_POBJ': 1,\n",
       "    'PARENT_POSTAG_NN': 1,\n",
       "    'PARENT_POS_NOUN': 1,\n",
       "    'VERB': 2},\n",
       "   'pos')),\n",
       " (Thread 2 pieces of chicken onto each skewer., ({}, 'pos'))]"
      ]
     },
     "execution_count": 17,
     "metadata": {},
     "output_type": "execute_result"
    }
   ],
   "source": [
    "featuresets[:2]"
   ]
  },
  {
   "cell_type": "markdown",
   "metadata": {},
   "source": [
    "On one run, the above line printed the following featureset:\n",
    "`(Gather foil loosely on top and bake for 1 1/2 hours., ({}, 'pos'))`\n",
    "\n",
    "This is because the Spacy.io POS tagger provided this:\n",
    "   `Gather/NNP foil/NN loosely/RB on/IN top/NN and/CC bake/NN for/IN 1 1/2 hours./NNS`\n",
    "\n",
    "...with no VERBs tagged, which is incorrect.\n",
    "\n",
    "\"Voting - POS taggers and classifiers\" in the _Next Steps/Improvements_ section below is meant to improve on this.\n",
    "\n",
    "---\n",
    "Compare to [Stanford CoreNLP POS tagger](http://nlp.stanford.edu:8080/corenlp/process):\n",
    "   `Gather/VB foil/NN loosely/RB on/IN top/JJ and/CC bake/VB for/IN 1 1/2/CD hours/NNS ./.`\n",
    "\n",
    "And [Stanford Parser](http://nlp.stanford.edu:8080/parser/index.jsp):\n",
    "   `Gather/NNP foil/VB loosely/RB on/IN top/NN and/CC bake/VB for/IN 1 1/2/CD hours/NNS ./.`"
   ]
  },
  {
   "cell_type": "markdown",
   "metadata": {},
   "source": [
    "### Classification"
   ]
  },
  {
   "cell_type": "code",
   "execution_count": 18,
   "metadata": {},
   "outputs": [
    {
     "name": "stdout",
     "output_type": "stream",
     "text": [
      "# training samples: 3669\n",
      "# test samples: 917\n"
     ]
    }
   ],
   "source": [
    "random.shuffle(featuresets)\n",
    "\n",
    "num_classes = 2\n",
    "split_num = round(num_per_class*num_classes / 5)\n",
    "\n",
    "# train and test sets\n",
    "testing_set = [fs[1] for i, fs in enumerate(featuresets[:split_num])]\n",
    "training_set =  [fs[1] for i, fs in enumerate(featuresets[split_num:])]\n",
    "\n",
    "print(f'# training samples: {len(training_set)}')\n",
    "print(f'# test samples: {len(testing_set)}')"
   ]
  },
  {
   "cell_type": "code",
   "execution_count": 19,
   "metadata": {
    "collapsed": true
   },
   "outputs": [],
   "source": [
    "# decoupling the functionality of nltk.classify.accuracy\n",
    "def predict(classifier, gold, prob=True):\n",
    "    if (prob is True):\n",
    "        predictions = classifier.prob_classify_many([fs for (fs, ll) in gold])\n",
    "    else:\n",
    "        predictions = classifier.classify_many([fs for (fs, ll) in gold])\n",
    "    return list(zip(predictions, [ll for (fs, ll) in gold]))\n",
    "\n",
    "def accuracy(predicts, prob=True):\n",
    "    if (prob is True):\n",
    "        correct = [label == prediction.max() for (prediction, label) in predicts]\n",
    "    else:\n",
    "        correct = [label == prediction for (prediction, label) in predicts]\n",
    "        \n",
    "    if correct:\n",
    "        return sum(correct) / len(correct)\n",
    "    else:\n",
    "        return 0"
   ]
  },
  {
   "cell_type": "markdown",
   "metadata": {},
   "source": [
    "Note below the use of `DummyClassifier` to provide a simple sanity check, a baseline of random predictions. `stratified` means it \"generates random predictions by respecting the training set class distribution.\" (http://scikit-learn.org/stable/modules/model_evaluation.html#dummy-estimators)\n",
    "\n",
    "> More generally, when the accuracy of a classifier is too close to random, it probably means that something went wrong: features are not helpful, a hyperparameter is not correctly tuned, the classifier is suffering from class imbalance, etc…\n",
    "\n",
    "If a classifier can beat the `DummyClassifier`, it is at least learning something valuable! How valuable is another question..."
   ]
  },
  {
   "cell_type": "code",
   "execution_count": 20,
   "metadata": {
    "scrolled": true
   },
   "outputs": [
    {
     "name": "stdout",
     "output_type": "stream",
     "text": [
      "Dummy classifier accuracy percent: 50.4907306434024\n",
      "NaiveBayes classifier accuracy percent: 67.2846237731734\n",
      "MultinomialNB classifier accuracy percent: 79.93456924754635\n",
      "BernoulliNB classifier accuracy percent: 73.93675027262813\n",
      "LogisticRegression classifier accuracy percent: 83.75136314067612\n",
      "SGD classifier accuracy percent: 77.09923664122137\n",
      "SVC classifier accuracy percent: 81.02508178844057\n",
      "LinearSVC classifier accuracy percent: 83.6423118865867\n",
      "DecisionTree classifier accuracy percent: 77.09923664122137\n",
      "RandomForest classifier accuracy percent: 82.33369683751364\n"
     ]
    }
   ],
   "source": [
    "from nltk import NaiveBayesClassifier\n",
    "from nltk.classify.decisiontree import DecisionTreeClassifier\n",
    "from nltk.classify.scikitlearn import SklearnClassifier\n",
    "\n",
    "from sklearn.dummy import DummyClassifier\n",
    "from sklearn.naive_bayes import MultinomialNB, BernoulliNB\n",
    "from sklearn.linear_model import LogisticRegression, SGDClassifier\n",
    "from sklearn.svm import SVC, LinearSVC, NuSVC\n",
    "from sklearn.ensemble import RandomForestClassifier\n",
    "from sklearn.calibration import CalibratedClassifierCV\n",
    "\n",
    "dummy = SklearnClassifier(DummyClassifier(strategy='stratified', random_state=0))\n",
    "dummy.train(training_set)\n",
    "dummy_predict = predict(dummy, testing_set)\n",
    "dummy_accuracy = accuracy(dummy_predict)\n",
    "print(\"Dummy classifier accuracy percent:\", dummy_accuracy*100)\n",
    "\n",
    "nb = NaiveBayesClassifier.train(training_set)\n",
    "nb_predict = predict(nb, testing_set)\n",
    "nb_accuracy = accuracy(nb_predict)\n",
    "print(\"NaiveBayes classifier accuracy percent:\", nb_accuracy*100)\n",
    "\n",
    "multinomial_nb = SklearnClassifier(MultinomialNB())\n",
    "multinomial_nb.train(training_set)\n",
    "mnb_predict = predict(multinomial_nb, testing_set)\n",
    "mnb_accuracy = accuracy(mnb_predict)\n",
    "print(\"MultinomialNB classifier accuracy percent:\", mnb_accuracy*100)\n",
    "\n",
    "bernoulli_nb = SklearnClassifier(BernoulliNB())\n",
    "bernoulli_nb.train(training_set)\n",
    "bnb_predict = predict(bernoulli_nb, testing_set)\n",
    "bnb_accuracy = accuracy(bnb_predict)\n",
    "print(\"BernoulliNB classifier accuracy percent:\", bnb_accuracy*100)\n",
    "\n",
    "# ??logistic_regression._clf\n",
    "#   sklearn.svm.LinearSVC : learns SVM models using the same algorithm.\n",
    "logistic_regression = SklearnClassifier(LogisticRegression())\n",
    "logistic_regression.train(training_set)\n",
    "lr_predict = predict(logistic_regression, testing_set)\n",
    "lr_accuracy = accuracy(lr_predict)\n",
    "print(\"LogisticRegression classifier accuracy percent:\", lr_accuracy*100)\n",
    "\n",
    "# ??sgd._clf\n",
    "#    The 'log' loss gives logistic regression, a probabilistic classifier.\n",
    "# ??linear_svc._clf\n",
    "#   can optimize the same cost function as LinearSVC\n",
    "#   by adjusting the penalty and loss parameters. In addition it requires\n",
    "#   less memory, allows incremental (online) learning, and implements\n",
    "#   various loss functions and regularization regimes.\n",
    "sgd = SklearnClassifier(SGDClassifier(loss='log'))\n",
    "sgd.train(training_set)\n",
    "sgd_predict = predict(sgd, testing_set)\n",
    "sgd_accuracy = accuracy(sgd_predict)\n",
    "print(\"SGD classifier accuracy percent:\", sgd_accuracy*100)\n",
    "\n",
    "# slow\n",
    "# using libsvm with kernel 'rbf' (radial basis function)\n",
    "svc = SklearnClassifier(SVC(probability=True))\n",
    "svc.train(training_set)\n",
    "svc_predict = predict(svc, testing_set)\n",
    "svc_accuracy = accuracy(svc_predict)\n",
    "print(\"SVC classifier accuracy percent:\", svc_accuracy*100)\n",
    "\n",
    "# ??linear_svc._clf\n",
    "#    Similar to SVC with parameter kernel='linear', but implemented in terms of\n",
    "#    liblinear rather than libsvm, so it has more flexibility in the choice of\n",
    "#    penalties and loss functions and should scale better to large numbers of\n",
    "#    samples.\n",
    "#    Prefer dual=False when n_samples > n_features.\n",
    "# Using CalibratedClassifierCV as wrapper to get predict probabilities (https://stackoverflow.com/a/39712590)\n",
    "linear_svc = SklearnClassifier(CalibratedClassifierCV(LinearSVC(dual=False)))\n",
    "linear_svc.train(training_set)\n",
    "linear_svc_predict = predict(linear_svc, testing_set)\n",
    "linear_svc_accuracy = accuracy(linear_svc_predict)\n",
    "print(\"LinearSVC classifier accuracy percent:\", linear_svc_accuracy*100)\n",
    "\n",
    "# slower\n",
    "dt = DecisionTreeClassifier.train(training_set)\n",
    "dt_predict = predict(dt, testing_set, False)\n",
    "dt_accuracy = accuracy(dt_predict, False)\n",
    "print(\"DecisionTree classifier accuracy percent:\", dt_accuracy*100)\n",
    "\n",
    "random_forest = SklearnClassifier(RandomForestClassifier(n_estimators = 100))\n",
    "random_forest.train(training_set)\n",
    "rf_predict = predict(random_forest, testing_set)\n",
    "rf_accuracy = accuracy(rf_predict)\n",
    "print(\"RandomForest classifier accuracy percent:\", rf_accuracy*100)"
   ]
  },
  {
   "cell_type": "markdown",
   "metadata": {},
   "source": [
    "### SGD: Multiple Epochs"
   ]
  },
  {
   "cell_type": "markdown",
   "metadata": {},
   "source": [
    "`sgd` classifiers improves with epochs. `??sgd._clf` tells us that the default number of epochs `n_iter` is 5. So let's run more epochs. Also not that the training_set shuffle is `True` by default."
   ]
  },
  {
   "cell_type": "code",
   "execution_count": 21,
   "metadata": {},
   "outputs": [
    {
     "name": "stdout",
     "output_type": "stream",
     "text": [
      "SGDClassifier classifier accuracy percent (epochs: 1000): 83.53326063249727\n"
     ]
    }
   ],
   "source": [
    "num_epochs = 1000\n",
    "sgd = SklearnClassifier(SGDClassifier(loss='log', n_iter=num_epochs))\n",
    "sgd.train(training_set)\n",
    "sgd_predict = predict(sgd, testing_set)\n",
    "sgd_accuracy = accuracy(sgd_predict)\n",
    "print(f\"SGDClassifier classifier accuracy percent (epochs: {num_epochs}):\", sgd_accuracy*100)"
   ]
  },
  {
   "cell_type": "markdown",
   "metadata": {},
   "source": [
    "Fortunately, 1000 epochs run very quickly! And `SGDClassifier` performance has improved with more iterations.\n",
    "\n",
    "*Also note that we can set `warm_start` to `True` if we want to take advantage of online learning and reuse the solution of the previous call.*"
   ]
  },
  {
   "cell_type": "markdown",
   "metadata": {},
   "source": [
    "### VotingClassifier\n",
    "\n",
    "We're going to create an ensemble classifier by letting our top-performing classifiers, which consistently perform with >80% accuracy &mdash; LogisticRegression, SVC, LinearSVC, SGD, and RandomForest &mdash; vote on each prediction."
   ]
  },
  {
   "cell_type": "code",
   "execution_count": 22,
   "metadata": {},
   "outputs": [
    {
     "name": "stdout",
     "output_type": "stream",
     "text": [
      "Soft voting classifier accuracy percent: 83.96946564885496\n"
     ]
    }
   ],
   "source": [
    "from sklearn.ensemble import VotingClassifier\n",
    "\n",
    "voting = SklearnClassifier(VotingClassifier(estimators=[\n",
    "    ('lr', logistic_regression._clf),\n",
    "    ('linear_svc', linear_svc._clf),\n",
    "    ('sgd', sgd._clf),\n",
    "    ('rf', random_forest._clf)\n",
    "], voting='soft', n_jobs=-1))\n",
    "voting.train(training_set)\n",
    "voting_predict = predict(voting, testing_set)\n",
    "voting_accuracy = accuracy(voting_predict)\n",
    "print(\"Soft voting classifier accuracy percent:\", voting_accuracy*100)"
   ]
  },
  {
   "cell_type": "markdown",
   "metadata": {},
   "source": [
    "### Analysis"
   ]
  },
  {
   "cell_type": "markdown",
   "metadata": {},
   "source": [
    "We're going to scope analysis down to our top-performing classifiers, which consistently perform with >80% accuracy: `LogisticRegression`, `LinearSVC`, `SGD`, and `RandomForest` (excluding `SVC` due to its slowness).\n",
    "\n",
    "We'll also include `Dummy` as a baseline."
   ]
  },
  {
   "cell_type": "markdown",
   "metadata": {},
   "source": [
    "#### Most Informative Features"
   ]
  },
  {
   "cell_type": "code",
   "execution_count": 23,
   "metadata": {
    "collapsed": true
   },
   "outputs": [],
   "source": [
    "# https://stackoverflow.com/a/11140887\n",
    "def show_most_informative_features(vectorizer, clf, n=20):\n",
    "    feature_names = vectorizer.get_feature_names()\n",
    "    coefs_with_fns = sorted(zip(clf.coef_[0], feature_names))\n",
    "    top = zip(coefs_with_fns[:round(n/2)], coefs_with_fns[:-(round(n/2) + 1):-1])\n",
    "    for (coef_1, fn_1), (coef_2, fn_2) in top:\n",
    "        print(\"\\t%.4f\\t%-15s\\t\\t%.4f\\t%-15s\" % (coef_1, fn_1, coef_2, fn_2))"
   ]
  },
  {
   "cell_type": "code",
   "execution_count": 24,
   "metadata": {},
   "outputs": [
    {
     "name": "stdout",
     "output_type": "stream",
     "text": [
      "SGD\n",
      "\t-2.5593\tCHILD_DEP_AGENT\t\t2.3789\tCHILD_DEP_ADVMOD||XCOMP\n",
      "\t-2.1129\tCHILD_DEP_INTJ \t\t1.8852\tCHILD_POSTAG_-RRB-\n",
      "\t-2.0969\tCHILD_POSTAG_``\t\t1.7146\tPARENT_DEP_DOBJ||XCOMP\n",
      "\t-2.0024\tCHILD_POSTAG_HYPH\t\t1.7028\tPARENT_POS_PROPN\n",
      "\t-1.9718\tFOLLOWING_POSTAG_WRB\t\t1.7028\tPARENT_POSTAG_NNP\n",
      "\t-1.9480\tCHILD_POSTAG_''\t\t1.6534\tFOLLOWING_POSTAG_RBS\n",
      "\t-1.8508\tPARENT_POSTAG_CD\t\t1.5757\tPARENT_DEP_DEP \n",
      "\t-1.8508\tPARENT_POS_NUM \t\t1.5756\tFOLLOWING_POS_NUM\n",
      "\n",
      "Logistic Regression\n",
      "\t-2.0960\tCHILD_DEP_AGENT\t\t1.5310\tCHILD_POSTAG_-RRB-\n",
      "\t-1.7950\tCHILD_POSTAG_HYPH\t\t1.4006\tCHILD_DEP_NPADVMOD\n",
      "\t-1.5986\tPARENT_POSTAG_VBZ\t\t1.3353\tPARENT_POS_PROPN\n",
      "\t-1.5775\tCHILD_POSTAG_''\t\t1.3353\tPARENT_POSTAG_NNP\n",
      "\t-1.4823\tCHILD_POSTAG_WDT\t\t1.2909\tFOLLOWING_POS_NUM\n",
      "\t-1.4100\tCHILD_DEP_NEG  \t\t1.2909\tFOLLOWING_POSTAG_CD\n",
      "\t-1.3872\tCHILD_POSTAG_WP\t\t1.0908\tPARENT_POSTAG_VB\n",
      "\t-1.3437\tCHILD_DEP_INTJ \t\t1.0876\tCHILD_POSTAG_-LRB-\n"
     ]
    }
   ],
   "source": [
    "print('SGD')\n",
    "show_most_informative_features(sgd._vectorizer, sgd._clf, 15)\n",
    "print()\n",
    "print('Logistic Regression')\n",
    "show_most_informative_features(logistic_regression._vectorizer, logistic_regression._clf, 15)"
   ]
  },
  {
   "cell_type": "markdown",
   "metadata": {},
   "source": [
    "*Note: Because `CalibratedClassifierCV` has no attribute `coef_`, we cannot show the most informative features for `LinearSVC` while it's wrapped. `Random Forest` also lacks `coef_`.*"
   ]
  },
  {
   "cell_type": "code",
   "execution_count": 25,
   "metadata": {},
   "outputs": [
    {
     "data": {
      "text/plain": [
       "'adjective, superlative'"
      ]
     },
     "execution_count": 25,
     "metadata": {},
     "output_type": "execute_result"
    }
   ],
   "source": [
    "spacy.explain(\"JJS\")"
   ]
  },
  {
   "cell_type": "markdown",
   "metadata": {},
   "source": [
    "**Negative coefficients**:\n",
    "- VERB parents [`AGENT`](http://universaldependencies.org/docs/sv/dep/nmod-agent.html): \"used for agents of passive verbs\" - interpreting this to mean that _existence of passive verbs (i.e., the opposite of active verbs) means negative correlation with it being imperative_\n",
    "- VERB followed by a `WRB`: \"wh-adverb\" (where, when)\n",
    "- VERB is a child of [`AMOD`](http://universaldependencies.org/en/dep/amod.html): \"any adjective or adjectival phrase that serves to modify the meaning\" of the verb\n",
    "\n",
    "\n",
    "**Positive coefficients**:\n",
    "- VERB parents a `-RRB-`: \"right round bracket\"\n",
    "- VERB is a child of `PROPN`: \"proper noun\"\n",
    "- VERB is a child of `NNP`: \"noun, proper singular\""
   ]
  },
  {
   "cell_type": "markdown",
   "metadata": {},
   "source": [
    "The `Random Forest` has another built-in way of determining \"feature importance\".\n",
    "\n",
    "**TODO**: How to maps feature #s to feature names?"
   ]
  },
  {
   "cell_type": "code",
   "execution_count": 26,
   "metadata": {},
   "outputs": [
    {
     "data": {
      "image/png": "[encoded data removed]",
      "text/plain": [
       "<matplotlib.figure.Figure at 0x185a750ec18>"
      ]
     },
     "metadata": {},
     "output_type": "display_data"
    },
    {
     "name": "stdout",
     "output_type": "stream",
     "text": [
      "1. feature 33 (0.104534)\n",
      "2. feature 247 (0.046676)\n",
      "3. feature 101 (0.035090)\n",
      "4. feature 242 (0.033077)\n",
      "5. feature 110 (0.025223)\n",
      "6. feature 11 (0.025204)\n",
      "7. feature 107 (0.022295)\n",
      "8. feature 74 (0.020907)\n",
      "9. feature 95 (0.020635)\n",
      "10. feature 80 (0.018854)\n",
      "...\n"
     ]
    }
   ],
   "source": [
    "# http://scikit-learn.org/stable/auto_examples/ensemble/plot_forest_importances.html\n",
    "\n",
    "import matplotlib.pyplot as plt\n",
    "from numpy import std, argsort\n",
    "\n",
    "importances = random_forest._clf.feature_importances_\n",
    "std = std([tree.feature_importances_ for tree in random_forest._clf.estimators_],\n",
    "             axis=0)\n",
    "indices = argsort(importances)[::-1]\n",
    "\n",
    "num_features = len(random_forest._clf.feature_importances_)\n",
    "\n",
    "# Plot the feature importances of the forest\n",
    "plt.figure()\n",
    "plt.title(\"Feature importances\")\n",
    "plt.bar(range(num_features), importances[indices],\n",
    "       color=\"r\", yerr=std[indices], align=\"center\")\n",
    "plt.xticks(range(num_features), indices)\n",
    "plt.xlim([-1, num_features])\n",
    "plt.show()\n",
    "\n",
    "for f in range(10):\n",
    "    print(\"%d. feature %d (%f)\" % (f + 1, indices[f], importances[indices[f]]))\n",
    "print('...')"
   ]
  },
  {
   "cell_type": "markdown",
   "metadata": {},
   "source": [
    "#### Scikit Learn metrics: Confusion matrix, Classification report, F1 score, Log loss\n",
    "\n",
    "http://scikit-learn.org/stable/modules/model_evaluation.html"
   ]
  },
  {
   "cell_type": "code",
   "execution_count": 27,
   "metadata": {
    "collapsed": true
   },
   "outputs": [],
   "source": [
    "from sklearn import metrics\n",
    "\n",
    "def classification_report(predict):\n",
    "    predictions, labels = zip(*predict)\n",
    "    return metrics.classification_report(labels, [p.max() for p in predictions])\n",
    "\n",
    "def confusion_matrix(predict, print_layout=False):\n",
    "    predictions, labels = zip(*predict)\n",
    "    if print_layout is True:\n",
    "        print('Layout\\n[[tn   fp]\\n [fn   tp]]\\n')\n",
    "    return metrics.confusion_matrix(labels, [p.max() for p in predictions])\n",
    "    \n",
    "def log_loss(predict):\n",
    "    predictions, labels = zip(*predict)\n",
    "    return metrics.log_loss(labels, [p.prob('pos') for p in predictions])\n",
    "\n",
    "def roc_auc_score(predict):\n",
    "    predictions, labels = zip(*predict)\n",
    "    # need to convert labels to binary classification of 0 or 1\n",
    "    return metrics.roc_auc_score([1 if l == 'pos' else 0 for l in labels], [p.prob('pos') for p in predictions], average='weighted')\n",
    "\n",
    "def precision_recall_curve(predict):\n",
    "    predictions, labels = zip(*predict)\n",
    "    return metrics.precision_recall_curve(labels, [p.prob('pos') for p in predictions], pos_label='pos')\n",
    "\n",
    "def average_precision_score(predict):\n",
    "    predictions, labels = zip(*predict)\n",
    "    return metrics.average_precision_score([1 if l == 'pos' else 0 for l in labels], [p.prob('pos') for p in predictions])\n",
    "\n",
    "def roc_curve(predict):\n",
    "    predictions, labels = zip(*predict)\n",
    "    return metrics.roc_curve(labels, [p.prob('pos') for p in predictions], pos_label='pos')"
   ]
  },
  {
   "cell_type": "code",
   "execution_count": 28,
   "metadata": {},
   "outputs": [
    {
     "name": "stdout",
     "output_type": "stream",
     "text": [
      "SGD\n",
      "             precision    recall  f1-score   support\n",
      "\n",
      "        neg       0.91      0.76      0.83       480\n",
      "        pos       0.78      0.91      0.84       437\n",
      "\n",
      "avg / total       0.85      0.84      0.83       917\n",
      "\n",
      "\n",
      "Logistic Regression\n",
      "             precision    recall  f1-score   support\n",
      "\n",
      "        neg       0.90      0.77      0.83       480\n",
      "        pos       0.78      0.91      0.84       437\n",
      "\n",
      "avg / total       0.85      0.84      0.84       917\n",
      "\n",
      "\n",
      "LinearSVC\n",
      "             precision    recall  f1-score   support\n",
      "\n",
      "        neg       0.91      0.77      0.83       480\n",
      "        pos       0.78      0.91      0.84       437\n",
      "\n",
      "avg / total       0.85      0.84      0.84       917\n",
      "\n",
      "\n",
      "Random Forest\n",
      "             precision    recall  f1-score   support\n",
      "\n",
      "        neg       0.87      0.78      0.82       480\n",
      "        pos       0.78      0.87      0.83       437\n",
      "\n",
      "avg / total       0.83      0.82      0.82       917\n",
      "\n",
      "\n",
      "Voting\n",
      "             precision    recall  f1-score   support\n",
      "\n",
      "        neg       0.91      0.78      0.84       480\n",
      "        pos       0.79      0.91      0.84       437\n",
      "\n",
      "avg / total       0.85      0.84      0.84       917\n",
      "\n"
     ]
    }
   ],
   "source": [
    "print('SGD')\n",
    "print(classification_report(sgd_predict))\n",
    "print()\n",
    "print('Logistic Regression')\n",
    "print(classification_report(lr_predict))\n",
    "print()\n",
    "print('LinearSVC')\n",
    "print(classification_report(linear_svc_predict))\n",
    "print()\n",
    "print('Random Forest')\n",
    "print(classification_report(rf_predict))\n",
    "print()\n",
    "print('Voting')\n",
    "print(classification_report(voting_predict))"
   ]
  },
  {
   "cell_type": "code",
   "execution_count": 29,
   "metadata": {},
   "outputs": [
    {
     "name": "stdout",
     "output_type": "stream",
     "text": [
      "Layout\n",
      "[[tn   fp]\n",
      " [fn   tp]]\n",
      "\n",
      "SGD\n",
      "[[367 113]\n",
      " [ 38 399]]\n",
      "\n",
      "Logistic Regression\n",
      "[[370 110]\n",
      " [ 39 398]]\n",
      "\n",
      "LinearSVC\n",
      "[[368 112]\n",
      " [ 38 399]]\n",
      "\n",
      "Random Forest\n",
      "[[373 107]\n",
      " [ 55 382]]\n",
      "\n",
      "Voting\n",
      "[[372 108]\n",
      " [ 39 398]]\n"
     ]
    }
   ],
   "source": [
    "print('Layout\\n[[tn   fp]\\n [fn   tp]]\\n')\n",
    "\n",
    "print('SGD')\n",
    "print(confusion_matrix(sgd_predict))\n",
    "print()\n",
    "print('Logistic Regression')\n",
    "print(confusion_matrix(lr_predict))\n",
    "print()\n",
    "print('LinearSVC')\n",
    "print(confusion_matrix(linear_svc_predict))\n",
    "print()\n",
    "print('Random Forest')\n",
    "print(confusion_matrix(rf_predict))\n",
    "print()\n",
    "print('Voting')\n",
    "print(confusion_matrix(voting_predict))"
   ]
  },
  {
   "cell_type": "markdown",
   "metadata": {},
   "source": [
    "The lower the better for `log_loss`..."
   ]
  },
  {
   "cell_type": "code",
   "execution_count": 30,
   "metadata": {},
   "outputs": [
    {
     "name": "stdout",
     "output_type": "stream",
     "text": [
      "SGD: 0.3602928516558063\n",
      "Logistic Regression: 0.3576544666544726\n",
      "LinearSVC: 0.3587913221723783\n",
      "Random Forest: 0.4359850133656391\n",
      "Voting: 0.3440107245294793\n"
     ]
    }
   ],
   "source": [
    "print(f'SGD: {log_loss(sgd_predict)}')\n",
    "print(f'Logistic Regression: {log_loss(lr_predict)}')\n",
    "print(f'LinearSVC: {log_loss(linear_svc_predict)}')\n",
    "print(f'Random Forest: {log_loss(rf_predict)}')\n",
    "print(f'Voting: {log_loss(voting_predict)}')"
   ]
  },
  {
   "cell_type": "markdown",
   "metadata": {},
   "source": [
    "The higher the better for `roc_auc_score`..."
   ]
  },
  {
   "cell_type": "code",
   "execution_count": 31,
   "metadata": {},
   "outputs": [
    {
     "name": "stdout",
     "output_type": "stream",
     "text": [
      "SGD: 0.9245518688024409\n",
      "Logistic Regression: 0.9241228070175438\n",
      "LinearSVC: 0.9257389397406559\n",
      "Random Forest: 0.9106097444698704\n",
      "Voting: 0.9316266209000762\n"
     ]
    }
   ],
   "source": [
    "print(f'SGD: {roc_auc_score(sgd_predict)}')\n",
    "print(f'Logistic Regression: {roc_auc_score(lr_predict)}')\n",
    "print(f'LinearSVC: {roc_auc_score(linear_svc_predict)}')\n",
    "print(f'Random Forest: {roc_auc_score(rf_predict)}')\n",
    "print(f'Voting: {roc_auc_score(voting_predict)}')"
   ]
  },
  {
   "cell_type": "markdown",
   "metadata": {},
   "source": [
    "#### Performance on sample tasks"
   ]
  },
  {
   "cell_type": "code",
   "execution_count": 32,
   "metadata": {},
   "outputs": [
    {
     "name": "stdout",
     "output_type": "stream",
     "text": [
      "Dummy: [('neg', 0.0), ('neg', 0.0), ('neg', 0.0), ('neg', 0.0), ('pos', 1.0), ('neg', 0.0), ('pos', 1.0)]\n",
      "LogisticRegression: [('pos', 0.60220072135890279), ('pos', 0.75878324826920851), ('pos', 0.93270240152896788), ('pos', 0.75878324826920851), ('pos', 0.8530923605698969), ('pos', 0.75878324826920851), ('pos', 0.82376415483360399)]\n",
      "LinearSVC: [('pos', 0.60233895420655026), ('pos', 0.73213333246004275), ('pos', 0.90283543907030761), ('pos', 0.73213333246004275), ('pos', 0.83325600977805936), ('pos', 0.73213333246004275), ('pos', 0.7794113091492908)]\n",
      "SGD: [('pos', 0.60132912998097465), ('pos', 0.77418619826365875), ('pos', 0.94996303448610486), ('pos', 0.77418619826365875), ('pos', 0.89203930157365752), ('pos', 0.77418619826365875), ('pos', 0.84201090043390248)]\n",
      "Random Forest: [('pos', 0.55593879812347236), ('pos', 0.83079704227680562), ('pos', 0.79803072527460683), ('pos', 0.83079704227680562), ('pos', 0.90433333333333321), ('pos', 0.83079704227680562), ('pos', 0.83484852349181149)]\n",
      "\n",
      "Voting: [('pos', 0.59216916320077562), ('pos', 0.7707636615053115), ('pos', 0.89277136800947865), ('pos', 0.7707636615053115), ('pos', 0.84442041330171114), ('pos', 0.7707636615053115), ('pos', 0.81586444597441155)]\n"
     ]
    }
   ],
   "source": [
    "sample_tasks = [\"Mow lawn\", \"Mow the lawn\", \"Buy new shoes\", \"Feed the dog\", \"Send report to Kyle\", \"Send the report to Kyle\", \"Peel the potatoes\"]\n",
    "features = [featurize(nlp(task)) for task in sample_tasks]\n",
    "\n",
    "tasks_dummy = [(l, p.prob('pos')*1.0) for l, p in zip(dummy.classify_many(features), dummy.prob_classify_many(features))]\n",
    "tasks_logistic = [(l, p.prob('pos')) for l,p in zip(logistic_regression.classify_many(features), logistic_regression.prob_classify_many(features))]\n",
    "tasks_linear_svc = [(l, p.prob('pos')) for l,p in zip(linear_svc.classify_many(features), linear_svc.prob_classify_many(features))]\n",
    "tasks_sgd = [(l, p.prob('pos')) for l,p in zip(sgd.classify_many(features), sgd.prob_classify_many(features))]\n",
    "tasks_rf = [(l, p.prob('pos')) for l,p in zip(random_forest.classify_many(features), random_forest.prob_classify_many(features))]\n",
    "tasks_voting = [(l, p.prob('pos')) for l,p in zip(voting.classify_many(features), voting.prob_classify_many(features))]\n",
    "\n",
    "print(f'Dummy: {tasks_dummy}')\n",
    "print(f'LogisticRegression: {tasks_logistic}')\n",
    "print(f'LinearSVC: {tasks_linear_svc}')\n",
    "print(f'SGD: {tasks_sgd}')\n",
    "print(f'Random Forest: {tasks_rf}')\n",
    "print()\n",
    "print(f'Voting: {tasks_voting}')"
   ]
  },
  {
   "cell_type": "markdown",
   "metadata": {},
   "source": [
    "#### Voting Model: Curves\n",
    "\n",
    "Use the precision-recall curve and ROC to adjust the `pos`/`neg` threshold.\n",
    "\n",
    "The threshold defaults to 0.5, meaning a probability >0.5 of being `pos` will result in a `pos` classification."
   ]
  },
  {
   "cell_type": "code",
   "execution_count": 33,
   "metadata": {},
   "outputs": [
    {
     "data": {
      "image/png": "[encoded data removed]",
      "text/plain": [
       "<matplotlib.figure.Figure at 0x185aa9a6ba8>"
      ]
     },
     "metadata": {},
     "output_type": "display_data"
    }
   ],
   "source": [
    "precision, recall, prc_thresholds = precision_recall_curve(voting_predict)\n",
    "average_precision = average_precision_score(voting_predict)\n",
    "\n",
    "plt.figure()\n",
    "plt.step(recall, precision, color='b', alpha=0.2,\n",
    "         where='post')\n",
    "plt.fill_between(recall, precision, step='post', alpha=0.2,\n",
    "                 color='b')\n",
    "\n",
    "plt.xlabel('Recall')\n",
    "plt.ylabel('Precision')\n",
    "plt.ylim([0.0, 1.05])\n",
    "plt.xlim([0.0, 1.0])\n",
    "plt.title('2-class Precision-Recall curve: AUC={0:0.2f}'.format(\n",
    "          average_precision))\n",
    "plt.show()"
   ]
  },
  {
   "cell_type": "markdown",
   "metadata": {},
   "source": [
    "Find a `Threshold` before `Precision` drops below 0.8."
   ]
  },
  {
   "cell_type": "code",
   "execution_count": 34,
   "metadata": {
    "scrolled": true
   },
   "outputs": [
    {
     "data": {
      "text/html": [
       "<div>\n",
       "<style>\n",
       "    .dataframe thead tr:only-child th {\n",
       "        text-align: right;\n",
       "    }\n",
       "\n",
       "    .dataframe thead th {\n",
       "        text-align: left;\n",
       "    }\n",
       "\n",
       "    .dataframe tbody tr th {\n",
       "        vertical-align: top;\n",
       "    }\n",
       "</style>\n",
       "<table border=\"1\" class=\"dataframe\">\n",
       "  <thead>\n",
       "    <tr style=\"text-align: right;\">\n",
       "      <th></th>\n",
       "      <th>Precision</th>\n",
       "      <th>Recall</th>\n",
       "      <th>Threshold</th>\n",
       "    </tr>\n",
       "  </thead>\n",
       "  <tbody>\n",
       "    <tr>\n",
       "      <th>322</th>\n",
       "      <td>0.878307</td>\n",
       "      <td>0.759725</td>\n",
       "      <td>0.597657</td>\n",
       "    </tr>\n",
       "    <tr>\n",
       "      <th>323</th>\n",
       "      <td>0.877984</td>\n",
       "      <td>0.757437</td>\n",
       "      <td>0.605357</td>\n",
       "    </tr>\n",
       "    <tr>\n",
       "      <th>324</th>\n",
       "      <td>0.877660</td>\n",
       "      <td>0.755149</td>\n",
       "      <td>0.618050</td>\n",
       "    </tr>\n",
       "    <tr>\n",
       "      <th>325</th>\n",
       "      <td>0.880000</td>\n",
       "      <td>0.755149</td>\n",
       "      <td>0.627285</td>\n",
       "    </tr>\n",
       "    <tr>\n",
       "      <th>326</th>\n",
       "      <td>0.879679</td>\n",
       "      <td>0.752860</td>\n",
       "      <td>0.628034</td>\n",
       "    </tr>\n",
       "    <tr>\n",
       "      <th>327</th>\n",
       "      <td>0.879357</td>\n",
       "      <td>0.750572</td>\n",
       "      <td>0.628471</td>\n",
       "    </tr>\n",
       "    <tr>\n",
       "      <th>328</th>\n",
       "      <td>0.881720</td>\n",
       "      <td>0.750572</td>\n",
       "      <td>0.629713</td>\n",
       "    </tr>\n",
       "    <tr>\n",
       "      <th>329</th>\n",
       "      <td>0.881402</td>\n",
       "      <td>0.748284</td>\n",
       "      <td>0.630727</td>\n",
       "    </tr>\n",
       "    <tr>\n",
       "      <th>330</th>\n",
       "      <td>0.883784</td>\n",
       "      <td>0.748284</td>\n",
       "      <td>0.631524</td>\n",
       "    </tr>\n",
       "    <tr>\n",
       "      <th>331</th>\n",
       "      <td>0.883469</td>\n",
       "      <td>0.745995</td>\n",
       "      <td>0.638043</td>\n",
       "    </tr>\n",
       "    <tr>\n",
       "      <th>332</th>\n",
       "      <td>0.883152</td>\n",
       "      <td>0.743707</td>\n",
       "      <td>0.644309</td>\n",
       "    </tr>\n",
       "    <tr>\n",
       "      <th>333</th>\n",
       "      <td>0.885559</td>\n",
       "      <td>0.743707</td>\n",
       "      <td>0.645518</td>\n",
       "    </tr>\n",
       "    <tr>\n",
       "      <th>334</th>\n",
       "      <td>0.887978</td>\n",
       "      <td>0.743707</td>\n",
       "      <td>0.647074</td>\n",
       "    </tr>\n",
       "    <tr>\n",
       "      <th>335</th>\n",
       "      <td>0.890411</td>\n",
       "      <td>0.743707</td>\n",
       "      <td>0.654082</td>\n",
       "    </tr>\n",
       "    <tr>\n",
       "      <th>336</th>\n",
       "      <td>0.890110</td>\n",
       "      <td>0.741419</td>\n",
       "      <td>0.657239</td>\n",
       "    </tr>\n",
       "    <tr>\n",
       "      <th>337</th>\n",
       "      <td>0.889807</td>\n",
       "      <td>0.739130</td>\n",
       "      <td>0.659784</td>\n",
       "    </tr>\n",
       "    <tr>\n",
       "      <th>338</th>\n",
       "      <td>0.892265</td>\n",
       "      <td>0.739130</td>\n",
       "      <td>0.663040</td>\n",
       "    </tr>\n",
       "    <tr>\n",
       "      <th>339</th>\n",
       "      <td>0.891967</td>\n",
       "      <td>0.736842</td>\n",
       "      <td>0.663592</td>\n",
       "    </tr>\n",
       "    <tr>\n",
       "      <th>340</th>\n",
       "      <td>0.894444</td>\n",
       "      <td>0.736842</td>\n",
       "      <td>0.663780</td>\n",
       "    </tr>\n",
       "    <tr>\n",
       "      <th>341</th>\n",
       "      <td>0.896936</td>\n",
       "      <td>0.736842</td>\n",
       "      <td>0.668944</td>\n",
       "    </tr>\n",
       "    <tr>\n",
       "      <th>342</th>\n",
       "      <td>0.899441</td>\n",
       "      <td>0.736842</td>\n",
       "      <td>0.672862</td>\n",
       "    </tr>\n",
       "    <tr>\n",
       "      <th>343</th>\n",
       "      <td>0.901961</td>\n",
       "      <td>0.736842</td>\n",
       "      <td>0.673533</td>\n",
       "    </tr>\n",
       "    <tr>\n",
       "      <th>344</th>\n",
       "      <td>0.901685</td>\n",
       "      <td>0.734554</td>\n",
       "      <td>0.674247</td>\n",
       "    </tr>\n",
       "    <tr>\n",
       "      <th>345</th>\n",
       "      <td>0.904225</td>\n",
       "      <td>0.734554</td>\n",
       "      <td>0.679483</td>\n",
       "    </tr>\n",
       "    <tr>\n",
       "      <th>346</th>\n",
       "      <td>0.906516</td>\n",
       "      <td>0.732265</td>\n",
       "      <td>0.680552</td>\n",
       "    </tr>\n",
       "    <tr>\n",
       "      <th>347</th>\n",
       "      <td>0.909091</td>\n",
       "      <td>0.732265</td>\n",
       "      <td>0.680617</td>\n",
       "    </tr>\n",
       "    <tr>\n",
       "      <th>348</th>\n",
       "      <td>0.908832</td>\n",
       "      <td>0.729977</td>\n",
       "      <td>0.684624</td>\n",
       "    </tr>\n",
       "    <tr>\n",
       "      <th>349</th>\n",
       "      <td>0.911429</td>\n",
       "      <td>0.729977</td>\n",
       "      <td>0.688237</td>\n",
       "    </tr>\n",
       "    <tr>\n",
       "      <th>350</th>\n",
       "      <td>0.914040</td>\n",
       "      <td>0.729977</td>\n",
       "      <td>0.689967</td>\n",
       "    </tr>\n",
       "    <tr>\n",
       "      <th>351</th>\n",
       "      <td>0.913793</td>\n",
       "      <td>0.727689</td>\n",
       "      <td>0.691510</td>\n",
       "    </tr>\n",
       "    <tr>\n",
       "      <th>352</th>\n",
       "      <td>0.916427</td>\n",
       "      <td>0.727689</td>\n",
       "      <td>0.699777</td>\n",
       "    </tr>\n",
       "    <tr>\n",
       "      <th>353</th>\n",
       "      <td>0.916185</td>\n",
       "      <td>0.725400</td>\n",
       "      <td>0.703873</td>\n",
       "    </tr>\n",
       "    <tr>\n",
       "      <th>354</th>\n",
       "      <td>0.915942</td>\n",
       "      <td>0.723112</td>\n",
       "      <td>0.704949</td>\n",
       "    </tr>\n",
       "    <tr>\n",
       "      <th>355</th>\n",
       "      <td>0.915698</td>\n",
       "      <td>0.720824</td>\n",
       "      <td>0.705841</td>\n",
       "    </tr>\n",
       "    <tr>\n",
       "      <th>356</th>\n",
       "      <td>0.918367</td>\n",
       "      <td>0.720824</td>\n",
       "      <td>0.709599</td>\n",
       "    </tr>\n",
       "    <tr>\n",
       "      <th>357</th>\n",
       "      <td>0.921053</td>\n",
       "      <td>0.720824</td>\n",
       "      <td>0.725225</td>\n",
       "    </tr>\n",
       "    <tr>\n",
       "      <th>358</th>\n",
       "      <td>0.920821</td>\n",
       "      <td>0.718535</td>\n",
       "      <td>0.727586</td>\n",
       "    </tr>\n",
       "    <tr>\n",
       "      <th>359</th>\n",
       "      <td>0.920588</td>\n",
       "      <td>0.716247</td>\n",
       "      <td>0.730840</td>\n",
       "    </tr>\n",
       "    <tr>\n",
       "      <th>360</th>\n",
       "      <td>0.920354</td>\n",
       "      <td>0.713959</td>\n",
       "      <td>0.731372</td>\n",
       "    </tr>\n",
       "    <tr>\n",
       "      <th>361</th>\n",
       "      <td>0.920118</td>\n",
       "      <td>0.711670</td>\n",
       "      <td>0.735150</td>\n",
       "    </tr>\n",
       "    <tr>\n",
       "      <th>362</th>\n",
       "      <td>0.922849</td>\n",
       "      <td>0.711670</td>\n",
       "      <td>0.736923</td>\n",
       "    </tr>\n",
       "    <tr>\n",
       "      <th>363</th>\n",
       "      <td>0.925595</td>\n",
       "      <td>0.711670</td>\n",
       "      <td>0.740635</td>\n",
       "    </tr>\n",
       "    <tr>\n",
       "      <th>364</th>\n",
       "      <td>0.928358</td>\n",
       "      <td>0.711670</td>\n",
       "      <td>0.741134</td>\n",
       "    </tr>\n",
       "    <tr>\n",
       "      <th>365</th>\n",
       "      <td>0.928144</td>\n",
       "      <td>0.709382</td>\n",
       "      <td>0.743213</td>\n",
       "    </tr>\n",
       "    <tr>\n",
       "      <th>366</th>\n",
       "      <td>0.927928</td>\n",
       "      <td>0.707094</td>\n",
       "      <td>0.744555</td>\n",
       "    </tr>\n",
       "    <tr>\n",
       "      <th>367</th>\n",
       "      <td>0.927711</td>\n",
       "      <td>0.704805</td>\n",
       "      <td>0.745869</td>\n",
       "    </tr>\n",
       "    <tr>\n",
       "      <th>368</th>\n",
       "      <td>0.930514</td>\n",
       "      <td>0.704805</td>\n",
       "      <td>0.749438</td>\n",
       "    </tr>\n",
       "    <tr>\n",
       "      <th>369</th>\n",
       "      <td>0.933333</td>\n",
       "      <td>0.704805</td>\n",
       "      <td>0.749972</td>\n",
       "    </tr>\n",
       "    <tr>\n",
       "      <th>370</th>\n",
       "      <td>0.933131</td>\n",
       "      <td>0.702517</td>\n",
       "      <td>0.750222</td>\n",
       "    </tr>\n",
       "    <tr>\n",
       "      <th>371</th>\n",
       "      <td>0.932927</td>\n",
       "      <td>0.700229</td>\n",
       "      <td>0.751701</td>\n",
       "    </tr>\n",
       "  </tbody>\n",
       "</table>\n",
       "</div>"
      ],
      "text/plain": [
       "     Precision    Recall  Threshold\n",
       "322   0.878307  0.759725   0.597657\n",
       "323   0.877984  0.757437   0.605357\n",
       "324   0.877660  0.755149   0.618050\n",
       "325   0.880000  0.755149   0.627285\n",
       "326   0.879679  0.752860   0.628034\n",
       "327   0.879357  0.750572   0.628471\n",
       "328   0.881720  0.750572   0.629713\n",
       "329   0.881402  0.748284   0.630727\n",
       "330   0.883784  0.748284   0.631524\n",
       "331   0.883469  0.745995   0.638043\n",
       "332   0.883152  0.743707   0.644309\n",
       "333   0.885559  0.743707   0.645518\n",
       "334   0.887978  0.743707   0.647074\n",
       "335   0.890411  0.743707   0.654082\n",
       "336   0.890110  0.741419   0.657239\n",
       "337   0.889807  0.739130   0.659784\n",
       "338   0.892265  0.739130   0.663040\n",
       "339   0.891967  0.736842   0.663592\n",
       "340   0.894444  0.736842   0.663780\n",
       "341   0.896936  0.736842   0.668944\n",
       "342   0.899441  0.736842   0.672862\n",
       "343   0.901961  0.736842   0.673533\n",
       "344   0.901685  0.734554   0.674247\n",
       "345   0.904225  0.734554   0.679483\n",
       "346   0.906516  0.732265   0.680552\n",
       "347   0.909091  0.732265   0.680617\n",
       "348   0.908832  0.729977   0.684624\n",
       "349   0.911429  0.729977   0.688237\n",
       "350   0.914040  0.729977   0.689967\n",
       "351   0.913793  0.727689   0.691510\n",
       "352   0.916427  0.727689   0.699777\n",
       "353   0.916185  0.725400   0.703873\n",
       "354   0.915942  0.723112   0.704949\n",
       "355   0.915698  0.720824   0.705841\n",
       "356   0.918367  0.720824   0.709599\n",
       "357   0.921053  0.720824   0.725225\n",
       "358   0.920821  0.718535   0.727586\n",
       "359   0.920588  0.716247   0.730840\n",
       "360   0.920354  0.713959   0.731372\n",
       "361   0.920118  0.711670   0.735150\n",
       "362   0.922849  0.711670   0.736923\n",
       "363   0.925595  0.711670   0.740635\n",
       "364   0.928358  0.711670   0.741134\n",
       "365   0.928144  0.709382   0.743213\n",
       "366   0.927928  0.707094   0.744555\n",
       "367   0.927711  0.704805   0.745869\n",
       "368   0.930514  0.704805   0.749438\n",
       "369   0.933333  0.704805   0.749972\n",
       "370   0.933131  0.702517   0.750222\n",
       "371   0.932927  0.700229   0.751701"
      ]
     },
     "execution_count": 34,
     "metadata": {},
     "output_type": "execute_result"
    }
   ],
   "source": [
    "from pandas import DataFrame\n",
    "\n",
    "prt_df = DataFrame.from_records(list(zip(precision, recall, prc_thresholds)), columns = ['Precision', 'Recall', 'Threshold'])\n",
    "prt_df.loc[(prt_df.Recall > 0.7) & (prt_df.Precision > 0.87)]"
   ]
  },
  {
   "cell_type": "markdown",
   "metadata": {},
   "source": [
    "Let's pick a `Threshold` of 0.64."
   ]
  },
  {
   "cell_type": "code",
   "execution_count": 35,
   "metadata": {},
   "outputs": [
    {
     "data": {
      "image/png": "[encoded data removed]",
      "text/plain": [
       "<matplotlib.figure.Figure at 0x185aa140c88>"
      ]
     },
     "metadata": {},
     "output_type": "display_data"
    }
   ],
   "source": [
    "fpr, tpr, roc_thresholds = roc_curve(voting_predict)\n",
    "area = roc_auc_score(voting_predict)\n",
    "\n",
    "plt.figure()\n",
    "plt.step(fpr, tpr, color='b', alpha=0.2,\n",
    "         where='post')\n",
    "plt.fill_between(fpr, tpr, step='post', alpha=0.2,\n",
    "                 color='b')\n",
    "\n",
    "plt.xlabel('False Positive Rate')\n",
    "plt.ylabel('True Positive Rate')\n",
    "plt.ylim([0.0, 1.05])\n",
    "plt.xlim([0.0, 1.0])\n",
    "plt.title('Receiving Operating Characteristic: area={0:0.2f}'.format(\n",
    "          area))\n",
    "plt.show()"
   ]
  },
  {
   "cell_type": "markdown",
   "metadata": {},
   "source": [
    "Find a `Threshold` around where `True Positive Rate` quickly goes above 0.8."
   ]
  },
  {
   "cell_type": "code",
   "execution_count": 36,
   "metadata": {
    "scrolled": true
   },
   "outputs": [
    {
     "data": {
      "text/html": [
       "<div>\n",
       "<style>\n",
       "    .dataframe thead tr:only-child th {\n",
       "        text-align: right;\n",
       "    }\n",
       "\n",
       "    .dataframe thead th {\n",
       "        text-align: left;\n",
       "    }\n",
       "\n",
       "    .dataframe tbody tr th {\n",
       "        vertical-align: top;\n",
       "    }\n",
       "</style>\n",
       "<table border=\"1\" class=\"dataframe\">\n",
       "  <thead>\n",
       "    <tr style=\"text-align: right;\">\n",
       "      <th></th>\n",
       "      <th>FPR</th>\n",
       "      <th>TPR</th>\n",
       "      <th>Threshold</th>\n",
       "    </tr>\n",
       "  </thead>\n",
       "  <tbody>\n",
       "    <tr>\n",
       "      <th>58</th>\n",
       "      <td>0.045833</td>\n",
       "      <td>0.704805</td>\n",
       "      <td>0.749972</td>\n",
       "    </tr>\n",
       "    <tr>\n",
       "      <th>59</th>\n",
       "      <td>0.050000</td>\n",
       "      <td>0.704805</td>\n",
       "      <td>0.745869</td>\n",
       "    </tr>\n",
       "    <tr>\n",
       "      <th>60</th>\n",
       "      <td>0.050000</td>\n",
       "      <td>0.711670</td>\n",
       "      <td>0.741134</td>\n",
       "    </tr>\n",
       "    <tr>\n",
       "      <th>61</th>\n",
       "      <td>0.056250</td>\n",
       "      <td>0.711670</td>\n",
       "      <td>0.735150</td>\n",
       "    </tr>\n",
       "    <tr>\n",
       "      <th>62</th>\n",
       "      <td>0.056250</td>\n",
       "      <td>0.720824</td>\n",
       "      <td>0.725225</td>\n",
       "    </tr>\n",
       "    <tr>\n",
       "      <th>63</th>\n",
       "      <td>0.060417</td>\n",
       "      <td>0.720824</td>\n",
       "      <td>0.705841</td>\n",
       "    </tr>\n",
       "    <tr>\n",
       "      <th>64</th>\n",
       "      <td>0.060417</td>\n",
       "      <td>0.727689</td>\n",
       "      <td>0.699777</td>\n",
       "    </tr>\n",
       "    <tr>\n",
       "      <th>65</th>\n",
       "      <td>0.062500</td>\n",
       "      <td>0.727689</td>\n",
       "      <td>0.691510</td>\n",
       "    </tr>\n",
       "    <tr>\n",
       "      <th>66</th>\n",
       "      <td>0.062500</td>\n",
       "      <td>0.729977</td>\n",
       "      <td>0.689967</td>\n",
       "    </tr>\n",
       "    <tr>\n",
       "      <th>67</th>\n",
       "      <td>0.066667</td>\n",
       "      <td>0.729977</td>\n",
       "      <td>0.684624</td>\n",
       "    </tr>\n",
       "    <tr>\n",
       "      <th>68</th>\n",
       "      <td>0.066667</td>\n",
       "      <td>0.732265</td>\n",
       "      <td>0.680617</td>\n",
       "    </tr>\n",
       "    <tr>\n",
       "      <th>69</th>\n",
       "      <td>0.068750</td>\n",
       "      <td>0.732265</td>\n",
       "      <td>0.680552</td>\n",
       "    </tr>\n",
       "    <tr>\n",
       "      <th>70</th>\n",
       "      <td>0.070833</td>\n",
       "      <td>0.734554</td>\n",
       "      <td>0.679483</td>\n",
       "    </tr>\n",
       "    <tr>\n",
       "      <th>71</th>\n",
       "      <td>0.072917</td>\n",
       "      <td>0.734554</td>\n",
       "      <td>0.674247</td>\n",
       "    </tr>\n",
       "    <tr>\n",
       "      <th>72</th>\n",
       "      <td>0.072917</td>\n",
       "      <td>0.736842</td>\n",
       "      <td>0.673533</td>\n",
       "    </tr>\n",
       "    <tr>\n",
       "      <th>73</th>\n",
       "      <td>0.081250</td>\n",
       "      <td>0.736842</td>\n",
       "      <td>0.663592</td>\n",
       "    </tr>\n",
       "    <tr>\n",
       "      <th>74</th>\n",
       "      <td>0.081250</td>\n",
       "      <td>0.739130</td>\n",
       "      <td>0.663040</td>\n",
       "    </tr>\n",
       "    <tr>\n",
       "      <th>75</th>\n",
       "      <td>0.083333</td>\n",
       "      <td>0.739130</td>\n",
       "      <td>0.659784</td>\n",
       "    </tr>\n",
       "    <tr>\n",
       "      <th>76</th>\n",
       "      <td>0.083333</td>\n",
       "      <td>0.743707</td>\n",
       "      <td>0.654082</td>\n",
       "    </tr>\n",
       "    <tr>\n",
       "      <th>77</th>\n",
       "      <td>0.089583</td>\n",
       "      <td>0.743707</td>\n",
       "      <td>0.644309</td>\n",
       "    </tr>\n",
       "    <tr>\n",
       "      <th>78</th>\n",
       "      <td>0.089583</td>\n",
       "      <td>0.748284</td>\n",
       "      <td>0.631524</td>\n",
       "    </tr>\n",
       "    <tr>\n",
       "      <th>79</th>\n",
       "      <td>0.091667</td>\n",
       "      <td>0.748284</td>\n",
       "      <td>0.630727</td>\n",
       "    </tr>\n",
       "    <tr>\n",
       "      <th>80</th>\n",
       "      <td>0.091667</td>\n",
       "      <td>0.750572</td>\n",
       "      <td>0.629713</td>\n",
       "    </tr>\n",
       "    <tr>\n",
       "      <th>81</th>\n",
       "      <td>0.093750</td>\n",
       "      <td>0.750572</td>\n",
       "      <td>0.628471</td>\n",
       "    </tr>\n",
       "    <tr>\n",
       "      <th>82</th>\n",
       "      <td>0.093750</td>\n",
       "      <td>0.755149</td>\n",
       "      <td>0.627285</td>\n",
       "    </tr>\n",
       "    <tr>\n",
       "      <th>83</th>\n",
       "      <td>0.095833</td>\n",
       "      <td>0.755149</td>\n",
       "      <td>0.618050</td>\n",
       "    </tr>\n",
       "    <tr>\n",
       "      <th>84</th>\n",
       "      <td>0.095833</td>\n",
       "      <td>0.759725</td>\n",
       "      <td>0.597657</td>\n",
       "    </tr>\n",
       "    <tr>\n",
       "      <th>85</th>\n",
       "      <td>0.202083</td>\n",
       "      <td>0.878719</td>\n",
       "      <td>0.592169</td>\n",
       "    </tr>\n",
       "    <tr>\n",
       "      <th>86</th>\n",
       "      <td>0.204167</td>\n",
       "      <td>0.878719</td>\n",
       "      <td>0.586585</td>\n",
       "    </tr>\n",
       "    <tr>\n",
       "      <th>87</th>\n",
       "      <td>0.204167</td>\n",
       "      <td>0.881007</td>\n",
       "      <td>0.582470</td>\n",
       "    </tr>\n",
       "    <tr>\n",
       "      <th>88</th>\n",
       "      <td>0.206250</td>\n",
       "      <td>0.881007</td>\n",
       "      <td>0.580896</td>\n",
       "    </tr>\n",
       "    <tr>\n",
       "      <th>89</th>\n",
       "      <td>0.206250</td>\n",
       "      <td>0.885584</td>\n",
       "      <td>0.573711</td>\n",
       "    </tr>\n",
       "    <tr>\n",
       "      <th>90</th>\n",
       "      <td>0.210417</td>\n",
       "      <td>0.885584</td>\n",
       "      <td>0.560152</td>\n",
       "    </tr>\n",
       "    <tr>\n",
       "      <th>91</th>\n",
       "      <td>0.210417</td>\n",
       "      <td>0.890160</td>\n",
       "      <td>0.555927</td>\n",
       "    </tr>\n",
       "    <tr>\n",
       "      <th>92</th>\n",
       "      <td>0.212500</td>\n",
       "      <td>0.890160</td>\n",
       "      <td>0.552813</td>\n",
       "    </tr>\n",
       "    <tr>\n",
       "      <th>93</th>\n",
       "      <td>0.212500</td>\n",
       "      <td>0.894737</td>\n",
       "      <td>0.549205</td>\n",
       "    </tr>\n",
       "    <tr>\n",
       "      <th>94</th>\n",
       "      <td>0.214583</td>\n",
       "      <td>0.894737</td>\n",
       "      <td>0.547179</td>\n",
       "    </tr>\n",
       "    <tr>\n",
       "      <th>95</th>\n",
       "      <td>0.214583</td>\n",
       "      <td>0.903890</td>\n",
       "      <td>0.526918</td>\n",
       "    </tr>\n",
       "    <tr>\n",
       "      <th>96</th>\n",
       "      <td>0.218750</td>\n",
       "      <td>0.903890</td>\n",
       "      <td>0.522051</td>\n",
       "    </tr>\n",
       "    <tr>\n",
       "      <th>97</th>\n",
       "      <td>0.218750</td>\n",
       "      <td>0.906178</td>\n",
       "      <td>0.515995</td>\n",
       "    </tr>\n",
       "  </tbody>\n",
       "</table>\n",
       "</div>"
      ],
      "text/plain": [
       "         FPR       TPR  Threshold\n",
       "58  0.045833  0.704805   0.749972\n",
       "59  0.050000  0.704805   0.745869\n",
       "60  0.050000  0.711670   0.741134\n",
       "61  0.056250  0.711670   0.735150\n",
       "62  0.056250  0.720824   0.725225\n",
       "63  0.060417  0.720824   0.705841\n",
       "64  0.060417  0.727689   0.699777\n",
       "65  0.062500  0.727689   0.691510\n",
       "66  0.062500  0.729977   0.689967\n",
       "67  0.066667  0.729977   0.684624\n",
       "68  0.066667  0.732265   0.680617\n",
       "69  0.068750  0.732265   0.680552\n",
       "70  0.070833  0.734554   0.679483\n",
       "71  0.072917  0.734554   0.674247\n",
       "72  0.072917  0.736842   0.673533\n",
       "73  0.081250  0.736842   0.663592\n",
       "74  0.081250  0.739130   0.663040\n",
       "75  0.083333  0.739130   0.659784\n",
       "76  0.083333  0.743707   0.654082\n",
       "77  0.089583  0.743707   0.644309\n",
       "78  0.089583  0.748284   0.631524\n",
       "79  0.091667  0.748284   0.630727\n",
       "80  0.091667  0.750572   0.629713\n",
       "81  0.093750  0.750572   0.628471\n",
       "82  0.093750  0.755149   0.627285\n",
       "83  0.095833  0.755149   0.618050\n",
       "84  0.095833  0.759725   0.597657\n",
       "85  0.202083  0.878719   0.592169\n",
       "86  0.204167  0.878719   0.586585\n",
       "87  0.204167  0.881007   0.582470\n",
       "88  0.206250  0.881007   0.580896\n",
       "89  0.206250  0.885584   0.573711\n",
       "90  0.210417  0.885584   0.560152\n",
       "91  0.210417  0.890160   0.555927\n",
       "92  0.212500  0.890160   0.552813\n",
       "93  0.212500  0.894737   0.549205\n",
       "94  0.214583  0.894737   0.547179\n",
       "95  0.214583  0.903890   0.526918\n",
       "96  0.218750  0.903890   0.522051\n",
       "97  0.218750  0.906178   0.515995"
      ]
     },
     "execution_count": 36,
     "metadata": {},
     "output_type": "execute_result"
    }
   ],
   "source": [
    "roc_df = DataFrame.from_records(list(zip(fpr, tpr, roc_thresholds)), columns = ['FPR', 'TPR', 'Threshold'])\n",
    "roc_df.loc[(roc_df.FPR < 0.22) & (roc_df.TPR > 0.7)]"
   ]
  },
  {
   "cell_type": "markdown",
   "metadata": {},
   "source": [
    "From this, a `Threshold` of ~0.596368 might be best for minimizing FPR and maximizing TPR (?)."
   ]
  },
  {
   "cell_type": "markdown",
   "metadata": {},
   "source": [
    "Might be a bad idea to actualy adjust `Threshold`, a form of overfitting on the test set: https://stackoverflow.com/questions/32627926/scikit-changing-the-threshold-to-create-multiple-confusion-matrixes (although using ROC to do this might be ok? https://stackoverflow.com/a/35300649)"
   ]
  },
  {
   "cell_type": "markdown",
   "metadata": {},
   "source": [
    "## Next Steps and Improvements\n",
    "\n",
    "1. Training set may be too specific/not relevant enough (recipe instructions for positive dataset, recipe descriptions+short movie reviews for negative dataset)\n",
    "2. Throwing features into a blender - need to understand value of each\n",
    "    - What feature \"classes\" tend to perform the best/worst?\n",
    "    - [PCA](http://jotterbach.github.io/2016/03/24/Principal_Component_Analysis/): Reducing dimensionality using most informative feature information\n",
    "3. Phrase vectorizations of all 0s - how problematic is this?\n",
    "4. Varying feature vector lengths - does this matter?\n",
    "5. Voting - POS taggers\n",
    "    - [SciKit Learn: Ensembles](http://scikit-learn.org/stable/modules/ensemble.html)\n",
    "    - [Kaggle Ensembling Guide](https://mlwave.com/kaggle-ensembling-guide/)\n",
    "6. Combining verb phrases\n",
    "7. Cross validation, grid search\n",
    "8. Look at examples from different quadrants of the confusion matrix - is there something we can learn?\n",
    "    - Same idea with the classification report"
   ]
  },
  {
   "cell_type": "markdown",
   "metadata": {},
   "source": [
    "---\n",
    "# Things abandoned"
   ]
  },
  {
   "cell_type": "markdown",
   "metadata": {},
   "source": [
    "## NLTK"
   ]
  },
  {
   "cell_type": "markdown",
   "metadata": {},
   "source": [
    "I needed a library that supports dependency parsing, which NLTK does not... so I thought I'd add the [Stanford CoreNLP](https://stanfordnlp.github.io/CoreNLP/) toolkit and [its associated software](https://nlp.stanford.edu/software/) to NLTK. However, there are many conflicting instructions for installing the Java-based project, depending on NLTK version used. By the time I figured this out, the installation had become a time sink. So I abandoned this effort in favor of Spacy.io.\n",
    "\n",
    "I might return this way if I want to improve results/implement a voter system between the various linguistic and classification methods later."
   ]
  },
  {
   "cell_type": "code",
   "execution_count": null,
   "metadata": {
    "collapsed": true
   },
   "outputs": [],
   "source": [
    "import nltk\n",
    "from nltk.tokenize import sent_tokenize, word_tokenize"
   ]
  },
  {
   "cell_type": "code",
   "execution_count": null,
   "metadata": {
    "collapsed": true
   },
   "outputs": [],
   "source": [
    "nltk.download('punkt')\n",
    "nltk.download('averaged_perceptron_tagger')"
   ]
  },
  {
   "cell_type": "markdown",
   "metadata": {},
   "source": [
    "### Tokenization"
   ]
  },
  {
   "cell_type": "code",
   "execution_count": null,
   "metadata": {
    "collapsed": true
   },
   "outputs": [],
   "source": [
    "sentences = [s for l in lines for s in sent_tokenize(l)] # punkt\n",
    "sentences"
   ]
  },
  {
   "cell_type": "code",
   "execution_count": null,
   "metadata": {
    "collapsed": true
   },
   "outputs": [],
   "source": [
    "tagged_sentences = []\n",
    "for s in sentences:\n",
    "    words = word_tokenize(s)\n",
    "    tagged = nltk.pos_tag(words) # averaged_perceptron_tagger\n",
    "    tagged_sentences.append(tagged)\n",
    "print(tagged_sentences)"
   ]
  },
  {
   "cell_type": "markdown",
   "metadata": {},
   "source": [
    "#### Note: POS accuracy\n",
    "\n",
    "`Run down to the shop, will you, Peter` is parsed unexpectedly by `nltk.pos_tag`:\n",
    "> `[('Run', 'NNP'), ('down', 'RB'), ('to', 'TO'), ('the', 'DT'), ('shop', 'NN'), (',', ','), ('will', 'MD'), ('you', 'PRP'), (',', ','), ('Peter', 'NNP')]`\n",
    "\n",
    "`Run` is tagged as a `NNP (proper noun, singular)`\n",
    "\n",
    "I expected an output more like what the [Stanford Parser](http://nlp.stanford.edu:8080/parser/) provides:\n",
    "> `Run/VBG down/RP to/TO the/DT shop/NN ,/, will/MD you/PRP ,/, Peter/NNP`\n",
    "\n",
    "`Run` is tagged as a `VGB (verb, gerund/present participle)` - still not quite the `VB` I want, but at least it's a `V*`\n",
    "\n",
    "_MEANWHILE..._\n",
    "\n",
    "`nltk.pos_tag` did better with:\n",
    "> `[('Do', 'VB'), ('not', 'RB'), ('clean', 'VB'), ('soot', 'NN'), ('off', 'IN'), ('the', 'DT'), ('window', 'NN')]`\n",
    "\n",
    "Compared to [Stanford CoreNLP](http://nlp.stanford.edu:8080/corenlp/process) (note that this is different than what [Stanford Parser](http://nlp.stanford.edu:8080/parser/) outputs):\n",
    "> `(ROOT (S (VP (VB Do) (NP (RB not) (JJ clean) (NN soot)) (PP (IN off) (NP (DT the) (NN window))))))`\n",
    "\n",
    "Concern: _clean_ as `VB (verb, base form)` vs `JJ (adjective)` \n",
    "\n",
    "**IMPROVE** POS taggers should vote: nltk.pos_tag (averaged_perceptron_tagger), Stanford Parser, CoreNLP, etc."
   ]
  },
  {
   "cell_type": "markdown",
   "metadata": {},
   "source": [
    "Note what Spacy POS tagger did with `Run down to the shop, will you Peter`:\n",
    "\n",
    "`Run/VB down/RP to/IN the shop/NN ,/, will/MD you/PRP ,/, Peter/NNP`\n",
    "\n",
    "    where `Run` is the `VB` I expected from POS tagging (compared to `nltk.pos_tag` result of `NNP`). Also note that Spacy collapses `the shop` into a single unit, which should be helpful during featurization."
   ]
  },
  {
   "cell_type": "markdown",
   "metadata": {},
   "source": [
    "### Featurization"
   ]
  },
  {
   "cell_type": "code",
   "execution_count": null,
   "metadata": {
    "collapsed": true
   },
   "outputs": [],
   "source": [
    "import re\n",
    "from collections import defaultdict\n",
    "\n",
    "featuresets = []\n",
    "for ts in tagged_sentences:\n",
    "    s_features = defaultdict(int)\n",
    "    for idx, tup in enumerate(ts):\n",
    "        #print(tup)\n",
    "        pos = tup[1]\n",
    "        # FeatureName.VERB\n",
    "        is_verb = re.match(r'VB.?', pos) is not None\n",
    "        print(tup, is_verb)\n",
    "        if is_verb:\n",
    "            s_features[FeatureName.VERB] += 1\n",
    "            # FOLLOWING_POS\n",
    "            next_idx = idx + 1;\n",
    "            if next_idx < len(ts):\n",
    "                s_features[f'{FeatureName.FOLLOWING}_{ts[next_idx][1]}'] += 1\n",
    "            # VERB_MODIFIER\n",
    "            # VERB_MODIFYING\n",
    "        else:\n",
    "            s_features[FeatureName.VERB] = 0\n",
    "    featuresets.append(dict(s_features))\n",
    "\n",
    "print()\n",
    "print(featuresets)"
   ]
  },
  {
   "cell_type": "markdown",
   "metadata": {},
   "source": [
    "### [Stanford NLP](https://nlp.stanford.edu/software/)\n",
    "Setup guide used: https://stackoverflow.com/a/34112695"
   ]
  },
  {
   "cell_type": "code",
   "execution_count": null,
   "metadata": {
    "collapsed": true
   },
   "outputs": [],
   "source": [
    "# Get dependency parser, NER, POS tagger\n",
    "!wget https://nlp.stanford.edu/software/stanford-parser-full-2017-06-09.zip\n",
    "!wget https://nlp.stanford.edu/software/stanford-ner-2017-06-09.zip\n",
    "!wget https://nlp.stanford.edu/software/stanford-postagger-full-2017-06-09.zip\n",
    "!unzip stanford-parser-full-2017-06-09.zip\n",
    "!unzip stanford-ner-2017-06-09.zip\n",
    "!unzip stanford-postagger-full-2017-06-09.zip"
   ]
  },
  {
   "cell_type": "code",
   "execution_count": null,
   "metadata": {
    "collapsed": true
   },
   "outputs": [],
   "source": [
    "from nltk.parse.stanford import StanfordParser\n",
    "from nltk.parse.stanford import StanfordDependencyParser\n",
    "from nltk.parse.stanford import StanfordNeuralDependencyParser\n",
    "from nltk.tag.stanford import StanfordPOSTagger, StanfordNERTagger\n",
    "from nltk.tokenize.stanford import StanfordTokenizer"
   ]
  }
 ],
 "metadata": {
  "kernelspec": {
   "display_name": "Python 3",
   "language": "python",
   "name": "python3"
  },
  "language_info": {
   "codemirror_mode": {
    "name": "ipython",
    "version": 3
   },
   "file_extension": ".py",
   "mimetype": "text/x-python",
   "name": "python",
   "nbconvert_exporter": "python",
   "pygments_lexer": "ipython3",
   "version": "3.6.2"
  }
 },
 "nbformat": 4,
 "nbformat_minor": 2
}
